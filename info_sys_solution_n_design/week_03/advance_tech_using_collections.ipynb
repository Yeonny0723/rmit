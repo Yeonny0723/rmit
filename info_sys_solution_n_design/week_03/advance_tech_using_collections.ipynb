{
 "cells": [
  {
   "cell_type": "markdown",
   "metadata": {},
   "source": [
    "Step 2 - Join a list of words"
   ]
  },
  {
   "cell_type": "code",
   "execution_count": 1,
   "metadata": {},
   "outputs": [
    {
     "name": "stdout",
     "output_type": "stream",
     "text": [
      "thequickbrownfoxjumpsoverthelazydog\n",
      "\n",
      "the quick brown fox jumps over the lazy dog\n",
      "\n",
      "the, quick, brown, fox, jumps, over, the, lazy, dog\n",
      "\n"
     ]
    }
   ],
   "source": [
    "# Join example\n",
    "\n",
    "words1 = ['the', 'quick', 'brown', 'fox', 'jumps', 'over', 'the', 'lazy', 'dog']\n",
    "str1 = \"\".join(words1) # the separator is specified as the string betwen the quotes - here an empty string\n",
    "print(str1)\n",
    "print()\n",
    "\n",
    "str2 = \" \".join(words1) # a space between the quotes serves a separator\n",
    "print(str2)\n",
    "print()\n",
    "\n",
    "str3 = \", \".join(words1) #  a comma followed by a space\n",
    "print(str3)\n",
    "print()"
   ]
  },
  {
   "cell_type": "code",
   "execution_count": 8,
   "metadata": {},
   "outputs": [
    {
     "data": {
      "text/plain": [
       "'Product ID, Reorder Level, Unit Price, \\n'"
      ]
     },
     "execution_count": 8,
     "metadata": {},
     "output_type": "execute_result"
    }
   ],
   "source": [
    "# Building a list of words and joining them\n",
    "\n",
    "# Variables\n",
    "reorder_level = 1\n",
    "lead_time_days = 0\n",
    "unit_price = 1\n",
    "\n",
    "# List containing the words to be concatenated\n",
    "list_str = []\n",
    "\n",
    "# Write your code here\n",
    "if reorder_level == 1:\n",
    "    list_str.append(\"Reorder Level\")\n",
    "if lead_time_days == 1:\n",
    "    list_str.append(\"Lead Time\")\n",
    "if unit_price == 1:\n",
    "    list_str.append(\"Unit Price\")\n",
    "\n",
    "list_str.insert(0, 'Product ID')\n",
    "list_str.insert(len(list_str), '\\n')\n",
    "\n",
    "    \n",
    "# Print the concatenated string\n",
    "\", \".join(list_str)\n"
   ]
  },
  {
   "cell_type": "markdown",
   "metadata": {},
   "source": [
    "Step 3 - Use JSON data with dictionaries"
   ]
  },
  {
   "cell_type": "code",
   "execution_count": 25,
   "metadata": {},
   "outputs": [
    {
     "name": "stdout",
     "output_type": "stream",
     "text": [
      "[1, 2, 3]\n"
     ]
    }
   ],
   "source": [
    "result = {\n",
    "  \"products\": [\n",
    "    {\n",
    "      \"lead_time_days\": 3,\n",
    "      \"reorder_level\": 50,\n",
    "      \"product_description\": \"80gm 500 sheets\",\n",
    "      \"unit_price\": 12.58,\n",
    "      \"product_id\": 1,\n",
    "      \"product_name\": \"Paper ream\",\n",
    "      \"discontinued\": 0,\n",
    "      \"product_category\": \"Stationery\"\n",
    "    },\n",
    "    {\n",
    "      \"lead_time_days\": 2,\n",
    "      \"reorder_level\": 10,\n",
    "      \"product_description\": \"100 pack\",\n",
    "      \"unit_price\": 3.97,\n",
    "      \"product_id\": 2,\n",
    "      \"product_name\": \"Plastic pockets\",\n",
    "      \"discontinued\": 1,\n",
    "      \"product_category\": \"Stationery\"\n",
    "    },\n",
    "    {\n",
    "      \"lead_time_days\": 2,\n",
    "      \"reorder_level\": 5,\n",
    "      \"product_description\": \"Standard gas-lift chair\",\n",
    "      \"unit_price\": 89.99,\n",
    "      \"product_id\": 3,\n",
    "      \"product_name\": \"Desk chair\",\n",
    "      \"discontinued\": 0,\n",
    "      \"product_category\": \"Furniture\"\n",
    "    }\n",
    "  ]\n",
    "}\n",
    "\n",
    "# Write your code here\n",
    "products = result['products']    \n",
    "product_ids = [prod['product_id'] for prod in products]\n",
    "    \n",
    "print(product_ids)"
   ]
  },
  {
   "cell_type": "markdown",
   "metadata": {},
   "source": [
    "Step 4 - Create a list using comprehension"
   ]
  },
  {
   "cell_type": "code",
   "execution_count": 26,
   "metadata": {},
   "outputs": [
    {
     "data": {
      "text/plain": [
       "[20, 40, 40]"
      ]
     },
     "execution_count": 26,
     "metadata": {},
     "output_type": "execute_result"
    }
   ],
   "source": [
    "old_list = [1, 4, 5, 20, 40 , 40]\n",
    "new_list = [x for x in old_list if x > 5]\n",
    "new_list"
   ]
  },
  {
   "cell_type": "markdown",
   "metadata": {},
   "source": [
    "Step 5 - Understand lambda functions"
   ]
  },
  {
   "cell_type": "code",
   "execution_count": 29,
   "metadata": {},
   "outputs": [
    {
     "name": "stdout",
     "output_type": "stream",
     "text": [
      "30\n",
      "\n",
      "240\n",
      "\n",
      "[0, 1, 4, 9, 16, 25, 36, 49, 64, 81]\n",
      "\n"
     ]
    }
   ],
   "source": [
    "f1 = lambda x : x + 10\n",
    "print(f1(20))\n",
    "print()\n",
    "f2 = lambda x, y : x * y\n",
    "print(f2(20, 12))\n",
    "print()    \n",
    "new_list4 = [(lambda x: x*x) (x) for x in range(10)]\n",
    "# == [x*x for x in range(10)]\n",
    "print(new_list4)\n",
    "print()"
   ]
  },
  {
   "cell_type": "code",
   "execution_count": 36,
   "metadata": {},
   "outputs": [
    {
     "data": {
      "text/plain": [
       "[0, 1, 4, 9, 16, 25, 36, 49, 64, 81]"
      ]
     },
     "execution_count": 36,
     "metadata": {},
     "output_type": "execute_result"
    }
   ],
   "source": [
    "[(lambda x:x*x) (x) for x in range(10)]"
   ]
  },
  {
   "cell_type": "code",
   "execution_count": null,
   "metadata": {},
   "outputs": [],
   "source": []
  },
  {
   "cell_type": "code",
   "execution_count": null,
   "metadata": {},
   "outputs": [],
   "source": []
  },
  {
   "cell_type": "code",
   "execution_count": null,
   "metadata": {},
   "outputs": [],
   "source": []
  }
 ],
 "metadata": {
  "kernelspec": {
   "display_name": "Python 3 (ipykernel)",
   "language": "python",
   "name": "python3"
  },
  "language_info": {
   "codemirror_mode": {
    "name": "ipython",
    "version": 3
   },
   "file_extension": ".py",
   "mimetype": "text/x-python",
   "name": "python",
   "nbconvert_exporter": "python",
   "pygments_lexer": "ipython3",
   "version": "3.9.7"
  }
 },
 "nbformat": 4,
 "nbformat_minor": 4
}
