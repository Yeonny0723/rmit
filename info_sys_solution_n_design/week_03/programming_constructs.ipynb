{
 "cells": [
  {
   "cell_type": "markdown",
   "metadata": {},
   "source": [
    "Step  2 - Implement conditional execution"
   ]
  },
  {
   "cell_type": "code",
   "execution_count": 2,
   "metadata": {},
   "outputs": [
    {
     "name": "stdout",
     "output_type": "stream",
     "text": [
      "not in!\n"
     ]
    }
   ],
   "source": [
    "# conditional execution\n",
    "\n",
    "# List of food groups\n",
    "food_groups = ['fruit', 'vegetable', 'grain', 'meat']\n",
    "preferred_food = 'fish'\n",
    "\n",
    "# Write your code here\n",
    "if preferred_food in food_groups:\n",
    "    print('my fav food is in!')\n",
    "else:\n",
    "    print('not in!')"
   ]
  },
  {
   "cell_type": "markdown",
   "metadata": {},
   "source": [
    "Step  3 - Implement a for loop"
   ]
  },
  {
   "cell_type": "code",
   "execution_count": 7,
   "metadata": {},
   "outputs": [
    {
     "name": "stdout",
     "output_type": "stream",
     "text": [
      "Avengers: Infinity War\n",
      "Disney\n",
      "$2,048,359,754\n",
      "Black Panther\n",
      "Disney\n",
      "$1,346,913,161\n",
      "Jurassic World: Fallen Kingdom\n",
      "Universal\n",
      "$1,309,484,461\n",
      "Incredibles 2\n",
      "Disney\n",
      "$1,242,770,554\n",
      "Aquaman\n",
      "Warner Bros\n",
      "$1,022,969,490\n"
     ]
    }
   ],
   "source": [
    "# for loops\n",
    "\n",
    "# List of 5 highest-grossing films in 2018\n",
    "# Each item in the list is a dictionary \n",
    "films = [\n",
    "    {'title': 'Avengers: Infinity War', 'distributor': 'Disney', 'gross': '$2,048,359,754'},\n",
    "    {'title': 'Black Panther', 'distributor': 'Disney', 'gross': '$1,346,913,161'},\n",
    "    {'title': 'Jurassic World: Fallen Kingdom', 'distributor': 'Universal', 'gross': '$1,309,484,461'},\n",
    "    {'title': 'Incredibles 2', 'distributor': 'Disney', 'gross': '$1,242,770,554'},\n",
    "    {'title': 'Aquaman', 'distributor': 'Warner Bros', 'gross': '$1,022,969,490'}\n",
    "]\n",
    "\n",
    "# Write your code here\n",
    "for film in films:\n",
    "    ks = film.keys()\n",
    "    for k in ks:\n",
    "        print(film[k])"
   ]
  },
  {
   "cell_type": "markdown",
   "metadata": {},
   "source": [
    "Step  4 - Implement a while loop"
   ]
  },
  {
   "cell_type": "code",
   "execution_count": 39,
   "metadata": {},
   "outputs": [
    {
     "name": "stdout",
     "output_type": "stream",
     "text": [
      "1 1\n",
      "2 3\n",
      "3 6\n",
      "4 10\n",
      "5 15\n",
      "6 21\n",
      "7 28\n",
      "8 36\n",
      "9 45\n",
      "10 55\n",
      "55\n"
     ]
    }
   ],
   "source": [
    "# while loops\n",
    "\n",
    "i = 1   # counter\n",
    "sum = 0 # accumulator\n",
    "\n",
    "while i < 11:\n",
    "    sum += i\n",
    "    print(i, sum)\n",
    "    i += 1 \n",
    "    \n",
    "print(sum)    "
   ]
  },
  {
   "cell_type": "code",
   "execution_count": null,
   "metadata": {},
   "outputs": [],
   "source": []
  },
  {
   "cell_type": "code",
   "execution_count": null,
   "metadata": {},
   "outputs": [],
   "source": []
  }
 ],
 "metadata": {
  "kernelspec": {
   "display_name": "Python 3 (ipykernel)",
   "language": "python",
   "name": "python3"
  },
  "language_info": {
   "codemirror_mode": {
    "name": "ipython",
    "version": 3
   },
   "file_extension": ".py",
   "mimetype": "text/x-python",
   "name": "python",
   "nbconvert_exporter": "python",
   "pygments_lexer": "ipython3",
   "version": "3.9.7"
  }
 },
 "nbformat": 4,
 "nbformat_minor": 4
}
