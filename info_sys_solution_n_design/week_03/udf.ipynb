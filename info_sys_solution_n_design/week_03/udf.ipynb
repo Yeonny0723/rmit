{
 "cells": [
  {
   "cell_type": "code",
   "execution_count": 2,
   "metadata": {},
   "outputs": [
    {
     "data": {
      "text/plain": [
       "154"
      ]
     },
     "execution_count": 2,
     "metadata": {},
     "output_type": "execute_result"
    }
   ],
   "source": [
    "# Define your function here\n",
    "\n",
    "        \n",
    "\n",
    "# List of values to be summed\n",
    "list_val = [3, 41, 12, 9, 74, 15]\n",
    "\n",
    "# Call your function here    \n",
    "def accum_lst_value(lst):\n",
    "    res = 0\n",
    "    for el in lst:\n",
    "        res += el\n",
    "        \n",
    "    return res\n",
    "\n",
    "accum_lst_value(list_val)"
   ]
  },
  {
   "cell_type": "code",
   "execution_count": null,
   "metadata": {},
   "outputs": [],
   "source": []
  }
 ],
 "metadata": {
  "kernelspec": {
   "display_name": "Python 3 (ipykernel)",
   "language": "python",
   "name": "python3"
  },
  "language_info": {
   "codemirror_mode": {
    "name": "ipython",
    "version": 3
   },
   "file_extension": ".py",
   "mimetype": "text/x-python",
   "name": "python",
   "nbconvert_exporter": "python",
   "pygments_lexer": "ipython3",
   "version": "3.9.7"
  }
 },
 "nbformat": 4,
 "nbformat_minor": 4
}
