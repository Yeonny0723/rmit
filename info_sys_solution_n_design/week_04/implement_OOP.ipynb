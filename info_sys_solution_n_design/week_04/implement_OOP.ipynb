{
 "cells": [
  {
   "cell_type": "markdown",
   "metadata": {},
   "source": [
    "<br></br>\n",
    "- Implement class"
   ]
  },
  {
   "cell_type": "code",
   "execution_count": 4,
   "metadata": {},
   "outputs": [],
   "source": [
    "class Bird:\n",
    "    \n",
    "    bird_count = 0 \n",
    "    # class attribute. when u wanna update this value every time new objects is being created\n",
    "    \n",
    "    def __init__(self, name, size):\n",
    "        \n",
    "        Bird.bird_count += 1\n",
    "        \n",
    "        self.bird_name = name\n",
    "        self.bird_size = size\n",
    "        \n",
    "    # Instance method\n",
    "    def hello(self):\n",
    "        print(self.bird_name, self.bird_size)\n",
    "        \n",
    "    # Class method\n",
    "    @classmethod\n",
    "    def count_birds(cls):\n",
    "        return \"the number of bird objects being created is: {}\".format(cls.bird_count)\n",
    "        "
   ]
  },
  {
   "cell_type": "code",
   "execution_count": 5,
   "metadata": {},
   "outputs": [
    {
     "name": "stdout",
     "output_type": "stream",
     "text": [
      "Juyeon 200cm\n"
     ]
    },
    {
     "data": {
      "text/plain": [
       "'the number of bird objects being created is: 1'"
      ]
     },
     "execution_count": 5,
     "metadata": {},
     "output_type": "execute_result"
    }
   ],
   "source": [
    "bird_a = Bird('Juyeon','200cm')\n",
    "bird_a.hello()\n",
    "bird_a.count_birds()"
   ]
  },
  {
   "cell_type": "markdown",
   "metadata": {},
   "source": [
    "<br></br>\n",
    "- Implement inheritance"
   ]
  },
  {
   "cell_type": "code",
   "execution_count": 6,
   "metadata": {},
   "outputs": [],
   "source": [
    "class Parrot(Bird):\n",
    "    def __init__(self, name, size, num_eggs_laid):\n",
    "        self.num_eggs_laid = num_eggs_laid\n",
    "        super().__init__(name, size)\n",
    "        \n",
    "class Pigeon(Bird):\n",
    "    def __init__(self, name, size, distance_flown):\n",
    "        self.distance_flown = distance_flown\n",
    "        super().__init__(name, size)"
   ]
  },
  {
   "cell_type": "code",
   "execution_count": 10,
   "metadata": {},
   "outputs": [
    {
     "name": "stdout",
     "output_type": "stream",
     "text": [
      "<__main__.Parrot object at 0x7f95d8fc27f0>\n",
      "<__main__.Pigeon object at 0x7f95d8fc2a90>\n"
     ]
    },
    {
     "data": {
      "text/plain": [
       "'the number of bird objects being created is: 7'"
      ]
     },
     "execution_count": 10,
     "metadata": {},
     "output_type": "execute_result"
    }
   ],
   "source": [
    "b_parrot = Parrot('Mini','200cm',22)\n",
    "print(b_parrot)\n",
    "b_pigeon = Pigeon('Jiji','250cm',25)\n",
    "print(b_pigeon)\n",
    "b_pigeon.count_birds()"
   ]
  },
  {
   "cell_type": "markdown",
   "metadata": {},
   "source": [
    "<br></br>\n",
    "- Implement polymorphism"
   ]
  },
  {
   "cell_type": "code",
   "execution_count": 19,
   "metadata": {},
   "outputs": [
    {
     "name": "stdout",
     "output_type": "stream",
     "text": [
      "Mini 200cm\n",
      "Jiji 250cm\n"
     ]
    }
   ],
   "source": [
    "b_parrot.hello()\n",
    "b_pigeon.hello()"
   ]
  },
  {
   "cell_type": "code",
   "execution_count": 51,
   "metadata": {},
   "outputs": [],
   "source": [
    "class Parrot(Bird):\n",
    "    def __init__(self, name, size, num_eggs_laid):\n",
    "        self.num_eggs_laid = num_eggs_laid\n",
    "        super().__init__(name, size)\n",
    "        \n",
    "    def hello(self):\n",
    "        print(f\"My name is {self.name} with the size of {self.size}. I've laid {self.num_eggs_laid} eggs.\")\n",
    "        \n",
    "class Pigeon(Bird):\n",
    "    def __init__(self, name, size, distance_flown):\n",
    "        self.distance_flown = distance_flown\n",
    "        super().__init__(name, size)\n",
    "    def hello(self):\n",
    "        print(f\"My name is {self.name} with the size of {self.size}. I've flown {self.distance_flown} kms.\")"
   ]
  },
  {
   "cell_type": "code",
   "execution_count": 52,
   "metadata": {},
   "outputs": [
    {
     "name": "stdout",
     "output_type": "stream",
     "text": [
      "My name is Mini with the size of 200cm. I've laid 22 eggs.\n",
      "My name is Jiji with the size of 250cm. I've flown 25 kms.\n"
     ]
    }
   ],
   "source": [
    "or_b_parrot = Parrot('Mini','200cm',22)\n",
    "or_b_parrot.hello()\n",
    "or_b_pigeon = Pigeon('Jiji','250cm',25)\n",
    "or_b_pigeon.hello()"
   ]
  },
  {
   "cell_type": "code",
   "execution_count": null,
   "metadata": {},
   "outputs": [],
   "source": []
  }
 ],
 "metadata": {
  "kernelspec": {
   "display_name": "Python 3 (ipykernel)",
   "language": "python",
   "name": "python3"
  },
  "language_info": {
   "codemirror_mode": {
    "name": "ipython",
    "version": 3
   },
   "file_extension": ".py",
   "mimetype": "text/x-python",
   "name": "python",
   "nbconvert_exporter": "python",
   "pygments_lexer": "ipython3",
   "version": "3.9.7"
  }
 },
 "nbformat": 4,
 "nbformat_minor": 4
}
