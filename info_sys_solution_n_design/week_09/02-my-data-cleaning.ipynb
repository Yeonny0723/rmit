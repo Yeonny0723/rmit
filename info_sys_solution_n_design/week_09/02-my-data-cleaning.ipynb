{
 "cells": [
  {
   "cell_type": "markdown",
   "id": "2c55554d",
   "metadata": {},
   "source": [
    "# 1. Import libraries"
   ]
  },
  {
   "cell_type": "code",
   "execution_count": null,
   "id": "089d170d",
   "metadata": {},
   "outputs": [],
   "source": [
    "# Pandas is the main library used for exploratory data analysis\n",
    "# Pandas is built on top of numpy \n",
    "# Numpy allows fast advanced mathematical operations on large amount of data\n",
    "import numpy as np\n",
    "import pandas as pd\n",
    "\n",
    "# Library forn saving a python object to file\n",
    "import joblib \n",
    "\n",
    "# Libraries for further processing of the data\n",
    "from sklearn.impute import SimpleImputer       # for assigning missing values\n",
    "\n",
    "# Matplotlib is the main plotting library for python\n",
    "# Seaborn is built on top of matplotlib and it's easier to use\n",
    "# pandas also have same basic plotting capabilities which are again built on top of matplotlib\n",
    "import matplotlib.pyplot as plt\n",
    "# The next statement instructs matplotlib to plot the graphs inside the notebook\n",
    "%matplotlib inline \n",
    "import seaborn as sns\n",
    "\n",
    "# Another useful plotting library is plotly - it is used for interactive plots"
   ]
  },
  {
   "cell_type": "markdown",
   "id": "22209aa4",
   "metadata": {},
   "source": [
    "# 2. Load and check data"
   ]
  },
  {
   "cell_type": "code",
   "execution_count": null,
   "id": "615cc377",
   "metadata": {},
   "outputs": [],
   "source": [
    "# Load the data - assuming its stored on your computer\n",
    "#diabetes_df = pd.read_csv(\"diabetes.csv\") # the suffix _df stands for dataframe\n",
    "#diabetes_df = pd.read_csv(\"data/diabetes.csv\") # if the CSV file is in folder data\n",
    "\n",
    "# If you suspect missing values are coded in non-standard ways\n",
    "#missing_values = ['?', '--', ' ', 'NA', 'N/A', '-'] # you can add more in the list\n",
    "#diabetes_df = pd.read_csv(\"diabetes.csv\", na_values=missing_values)\n",
    "\n",
    "# If delimiter is not a comma\n",
    "#diabetes_df = pd.read_csv(\"diabetes.csv\", delimiter=';')"
   ]
  },
  {
   "cell_type": "code",
   "execution_count": null,
   "id": "a3d2868a",
   "metadata": {},
   "outputs": [],
   "source": [
    "# Load the data from the web\n",
    "url = 'https://raw.githubusercontent.com/jbrownlee/Datasets/master/pima-indians-diabetes.csv'\n",
    "col_names = ['num_pregnancies', \n",
    "             'glucose', \n",
    "             'blood_pressure', \n",
    "             'skin_thickness', \n",
    "             'insulin', \n",
    "             'bmi', \n",
    "             'pedigree', \n",
    "             'age', \n",
    "             'outcome']\n",
    "diabetes_df = pd.read_csv(url, header=None, names=col_names)"
   ]
  },
  {
   "cell_type": "code",
   "execution_count": null,
   "id": "14f62a2a",
   "metadata": {},
   "outputs": [],
   "source": [
    "diabetes_df.dtypes\n"
   ]
  },
  {
   "cell_type": "code",
   "execution_count": null,
   "id": "ea5c8df6",
   "metadata": {},
   "outputs": [],
   "source": [
    "# SUPPOSE the type bmi was an \"object\" - meaning it's a string\n",
    "# To convert any column that was loaded as a string to float use the astype(float) function\n",
    "# Similarly, there are conversions for other data types\n",
    "# Check documentation at \n",
    "# https://pandas.pydata.org/pandas-docs/stable/reference/api/pandas.DataFrame.astype.html\n",
    "diabetes_df[\"bmi\"] = diabetes_df[\"bmi\"].astype(float)\n",
    "diabetes_df.dtypes\n",
    "\n",
    "# NOTE: If some of the values of column bmi were spaces\n",
    "# Then trying to cast all the values to float will crash\n",
    "# As a space cannot be converted to float\n",
    "# Need to identify the rows with spaces\n",
    "# And decide what to do with these rows\n",
    "# Either delete these rows or replace them with something else (discussed under missing values)\n",
    "\n",
    "# Suppose we dropping the rows with null values\n",
    "# The following shows the code for how to do it\n",
    "# Replace the spaces with null values (NaN) and then use dropna() to drop rows with Nan values\n",
    "#diabetes_df[\"bmi\"].replace(\" \", np.nan, inplace=True) # modify the data in place - will return nothing\n",
    "#diabetes_df.dropna(how='any', inplace=True) # any = drop a row with a Nan value in any column\n",
    "# Check dropna() documentation at \n",
    "# https://pandas.pydata.org/pandas-docs/stable/reference/api/pandas.DataFrame.dropna.html"
   ]
  },
  {
   "cell_type": "markdown",
   "id": "68cddd79",
   "metadata": {},
   "source": [
    "!!! be sure to delete the duplicates. inplace = True. reset index. "
   ]
  },
  {
   "cell_type": "code",
   "execution_count": null,
   "id": "09aafdf3",
   "metadata": {},
   "outputs": [],
   "source": [
    "# If you wanted to drop rows with duplicate values\n",
    "print(diabetes_df.shape)\n",
    "\n",
    "# Ref: https://pandas.pydata.org/pandas-docs/stable/reference/api/pandas.DataFrame.drop_duplicates.html\n",
    "diabetes_df.drop_duplicates(inplace=True) # will keep first copy\n",
    "\n",
    "# You may want to reset the index\n",
    "# REf: https://pandas.pydata.org/pandas-docs/stable/reference/api/pandas.DataFrame.drop_duplicates.html\n",
    "diabetes_df.reset_index(drop=True, inplace=True) # reset index to default integer index\n",
    "\n",
    "# Check\n",
    "print(diabetes_df.shape)"
   ]
  },
  {
   "cell_type": "markdown",
   "id": "67dd4b99",
   "metadata": {},
   "source": [
    "# 3. Handle missing values"
   ]
  },
  {
   "cell_type": "markdown",
   "id": "357c57fc",
   "metadata": {},
   "source": [
    "a. Percentage of missing values encoded as NaN"
   ]
  },
  {
   "cell_type": "code",
   "execution_count": null,
   "id": "8c220eec",
   "metadata": {},
   "outputs": [],
   "source": [
    "# Count of missing values in the whole dataframe by column\n",
    "#diabetes_df.isnull().count() # does not work - gives the count of non-null values\n",
    "#diabetes_df.isna().sum() # isna() is the same as isnull()\n",
    "\n",
    "diabetes_df.isnull().sum()"
   ]
  },
  {
   "cell_type": "code",
   "execution_count": null,
   "id": "40ca8f0b",
   "metadata": {},
   "outputs": [],
   "source": [
    "# Display percentage of missing values (NaN) per column\n",
    "# isna() - returns a dataframe of all boolean values True/False\n",
    "# Each value is tested  whether it's missing or not\n",
    "# Boolean values are treated as numeric 0/1 when doing arithmetic operations\n",
    "# So we can calculate the sum and mean of a column of boolean value\n",
    "# Instead of calculating the sum and dividing by the number of rows, we can use the mean directly\n",
    "\n",
    "percent_missing = round(diabetes_df.isna().mean() * 100, 4)\n",
    "print(percent_missing)"
   ]
  },
  {
   "cell_type": "markdown",
   "id": "b178dc6c",
   "metadata": {},
   "source": [
    "b. What if missing values are not encoded as NaN? - be suspicious!!!\n"
   ]
  },
  {
   "cell_type": "code",
   "execution_count": null,
   "id": "58cde48b",
   "metadata": {},
   "outputs": [],
   "source": [
    "# There are lots of zero values in some of the columns\n",
    "diabetes_df[(diabetes_df['glucose'] == 0)]"
   ]
  },
  {
   "cell_type": "code",
   "execution_count": null,
   "id": "37b3fc25",
   "metadata": {},
   "outputs": [],
   "source": [
    "# Other datasets- missing values could be a single space e.g. \" \" one space inside the quotes\n",
    "# This is not the case here\n",
    "# Furthermore, you cannot check for spaces if the datatype of the column is float\n",
    "# If there were spaces in the Glucose column, its datatype would be a string \n",
    "diabetes_df[(diabetes_df['glucose'] == \" \")]"
   ]
  },
  {
   "cell_type": "markdown",
   "id": "a74f72e5",
   "metadata": {},
   "source": [
    "Change suspicious NaN data"
   ]
  },
  {
   "cell_type": "code",
   "execution_count": null,
   "id": "dc89e7a9",
   "metadata": {},
   "outputs": [],
   "source": [
    "# Replace 0s in all columns except Pregnancies and Outcome\n",
    "\n",
    "# Write code to get the column names\n",
    "#columns = diabetes_df.columns.to_list()\n",
    "#columns.remove('num_pregnancies')\n",
    "#columns.remove('outcome')\n",
    "# Or just specify the names of the columns\n",
    "columns = ['glucose', 'blood_pressure', 'skin_thickness', 'insulin', 'bmi', 'pedigree', 'age']\n",
    "print(columns)\n",
    "for col in columns: # *in order to replace all values in DF not a single row. \n",
    "    #print(col)\n",
    "    # Can replace one or more things at a time\n",
    "    diabetes_df[col].replace(0, np.nan, inplace=True) # replace a 0 with NaN\n",
    "    #diabetes_df[col].replace(\" \", np.nan, inplace=True) # if some missing values were a space\n",
    "\n",
    "# Check - the percentages of missing values should show up in each column   \n",
    "print(round(diabetes_df.isna().mean() * 100, 4))"
   ]
  },
  {
   "cell_type": "markdown",
   "id": "b471bb32",
   "metadata": {},
   "source": [
    "c. If you wanted to drop all rows with missing values (NaN) - simply dropping the record is not always an answer."
   ]
  },
  {
   "cell_type": "code",
   "execution_count": null,
   "id": "0e574c51",
   "metadata": {},
   "outputs": [],
   "source": [
    "# If you are dropping NaN or NA values, you can simply use the dropna() function\n",
    "\n",
    "# Ref: https://pandas.pydata.org/pandas-docs/stable/reference/api/pandas.DataFrame.dropna.html\n",
    "# Examples: https://www.w3resource.com/pandas/dataframe/dataframe-dropna.php\n",
    "\n",
    "# There are several ways to use the dropna() function\n",
    "\n",
    "# Alternative 1. Drop the rows where at least one element is missing\n",
    "diabetes_df.dropna(inplace=True)\n",
    "\n",
    "# Alternative 2. Drop the rows where all elements are missing.\n",
    "diabetes_df.dropna(how='all', inplace=True)\n",
    "\n",
    "# Alternative 3. Keep only the rows with at least 2 non-NA values\n",
    "diabetes_df.dropna(thresh=2, inplace=True)\n",
    "\n",
    "# Alternative 4. Define in which columns to look for missing values\n",
    "# You can check in one or more columns\n",
    "# This is just an example to demonstrate\n",
    "diabetes_df.dropna(subset=['glucose', 'blood_pressure']) \n",
    "\n",
    "# Please note that the above commands will only work \n",
    "# if the missing values are NaN (not a number) or NA (not available)\n",
    "# They will not work if the missing values are 0s.\n",
    "\n",
    "# Check - there should be zero percent missing values in all columns\n",
    "#print(round(diabetes_df.isna().mean() * 100, 4))\n",
    "\n",
    "# It'a a good idea to check the number of rows and columns left after dropping rows\n",
    "#print(diabetes_df.shape)"
   ]
  },
  {
   "cell_type": "markdown",
   "id": "fb66f300",
   "metadata": {},
   "source": [
    "d. If you wanted to replace all missing values (NaN) with median values\n"
   ]
  },
  {
   "cell_type": "code",
   "execution_count": null,
   "id": "ee69176e",
   "metadata": {},
   "outputs": [],
   "source": [
    "# Replace NaN with median value in all columns\n",
    "columns = ['glucose', 'blood_pressure', 'skin_thickness', 'insulin', 'bmi', 'pedigree', 'age']\n",
    "\n",
    "# If you want to use SKlearn's SimpleInputer\n",
    "imp_median = SimpleImputer(missing_values=np.nan, strategy='median')\n",
    "\n",
    "for col in columns:\n",
    "    print(col)\n",
    "    # Option 1. Using SimpleImputer to replace all missing values in column with median value\n",
    "    diabetes_df[col] = imp_median.fit_transform(diabetes_df[col].values.reshape(-1, 1))\n",
    "    # Option2. (samle function as above) You can also use pandas to do the replacement (also called imputation)\n",
    "#     diabetes_df[col].fillna(diabetes_df[col].median(), inplace=True)\n",
    "\n",
    "# Check - there should be zero percent missing values in all columns\n",
    "print(round(diabetes_df.isna().mean() * 100, 4))"
   ]
  },
  {
   "cell_type": "markdown",
   "id": "d0c70a47",
   "metadata": {},
   "source": [
    "# 6. Handle outliers"
   ]
  },
  {
   "cell_type": "markdown",
   "id": "91e9722e",
   "metadata": {},
   "source": [
    "1. visualize outliers"
   ]
  },
  {
   "cell_type": "code",
   "execution_count": null,
   "id": "9a5d2fa5",
   "metadata": {},
   "outputs": [],
   "source": [
    "# Example 1 - age \n",
    "# Ref: https://seaborn.pydata.org/generated/seaborn.boxplot.html\n",
    "\n",
    "sns.boxplot(x=diabetes_df[\"age\"]) # if used y=x=diabetes_df[\"age\"] - plot displayed vertically"
   ]
  },
  {
   "cell_type": "code",
   "execution_count": null,
   "id": "de3b40c1",
   "metadata": {},
   "outputs": [],
   "source": [
    "# Example 2 - number of pregnancies\n",
    "sns.boxplot(x=diabetes_df[\"num_pregnancies\"])"
   ]
  },
  {
   "cell_type": "code",
   "execution_count": null,
   "id": "f55be97e",
   "metadata": {},
   "outputs": [],
   "source": [
    "# Example 3 - subplots\n",
    "\n",
    "fig, ax = plt.subplots(2,4, figsize=(16,6))  # 2 rows and 4 columns\n",
    "\n",
    "# Row 0\n",
    "ax1 = sns.boxplot(y=diabetes_df[\"num_pregnancies\"], ax=ax[0,0]) # row 0, col 0\n",
    "ax2 = sns.boxplot(y=diabetes_df[\"glucose\"], ax=ax[0,1]) \n",
    "ax3 = sns.boxplot(y=diabetes_df[\"blood_pressure\"], ax=ax[0,2])\n",
    "ax4 = sns.boxplot(y=diabetes_df[\"skin_thickness\"], ax=ax[0,3])\n",
    "\n",
    "# Row 1\n",
    "ax5 = sns.boxplot(y=diabetes_df[\"insulin\"], ax=ax[1,0])\n",
    "ax6 = sns.boxplot(y=diabetes_df[\"bmi\"], ax=ax[1,1])\n",
    "ax7 = sns.boxplot(y=diabetes_df[\"pedigree\"], ax=ax[1,2])\n",
    "ax8 = sns.boxplot(y=diabetes_df[\"age\"], ax=ax[1,3])"
   ]
  },
  {
   "cell_type": "markdown",
   "id": "963b5c5d",
   "metadata": {},
   "source": [
    "c. Percentage outliers\n"
   ]
  },
  {
   "cell_type": "code",
   "execution_count": null,
   "id": "8713d498",
   "metadata": {},
   "outputs": [],
   "source": [
    "# Finding the percentages of outlier per columns\n",
    "# Note: Outliers only apply to continuous numerical values - not to strings or numerical categories!\n",
    "# So, be careful what you include in the list of column names\n",
    "\n",
    "# Add Pregnancies to the list\n",
    "columns = ['num_pregnancies', 'glucose', 'blood_pressure', \n",
    "           'skin_thickness', 'insulin', 'bmi', 'pedigree', 'age']\n",
    "print(columns)\n",
    "print()\n",
    "\n",
    "for col in columns:\n",
    "    percentile_25 = diabetes_df[col].quantile(0.25)\n",
    "    percentile_75 = diabetes_df[col].quantile(0.75)\n",
    "    iqr = percentile_75 - percentile_25 # Inter Quartile Range\n",
    "    total = len(diabetes_df[col])\n",
    "    #total = diabetes_df[col].shape[0] # also works\n",
    "\n",
    "    # Determine the upper and lower boundaries for outliers\n",
    "    # The lower and upper boundaries are less than the bottom whisker or greater than the top whisker\n",
    "    #cut_off = iqr * 3    # three times IQR - for detecting extreme outliers\n",
    "    cut_off = iqr * 1.5  # normally use 1.5 times IQR\n",
    "    lower, upper = percentile_25 - cut_off, percentile_75 + cut_off\n",
    "    print(f\"col: {col}, lower: {lower}, upper: {upper}\")\n",
    "\n",
    "    # Count all values that are less than the lower boundary OR those that are greater than the upper boundary\n",
    "    #num_outliers = diabetes_df[(diabetes_df[col] < lower) | (diabetes_df[col] > upper)].count() \n",
    "    # returns a list of things\n",
    "    num_outliers = len(diabetes_df[(diabetes_df[col] < lower) | (diabetes_df[col] > upper)])\n",
    "    \n",
    "    pc_outliers = round(num_outliers*100/total,2)\n",
    "    \n",
    "    print(f\"Num outliers: {num_outliers}, total rows: {total}, percent: {pc_outliers}\")\n",
    "    print()"
   ]
  },
  {
   "cell_type": "markdown",
   "id": "50503ae2",
   "metadata": {},
   "source": [
    "d. Replace outliers with median\n"
   ]
  },
  {
   "cell_type": "code",
   "execution_count": null,
   "id": "8f340c69",
   "metadata": {},
   "outputs": [],
   "source": [
    "# Using Inter Quartile Range (IQR) to detect outliers - for non-normal (non-Gaussian) distributions\n",
    "\n",
    "# Add Pregnancies to the list\n",
    "columns = ['num_pregnancies', 'glucose', 'blood_pressure', \n",
    "           'skin_thickness', 'insulin', 'bmi', 'pedigree', 'age']\n",
    "\n",
    "for col in columns:\n",
    "    median_val = diabetes_df[col].quantile(0.50)\n",
    "    percentile_25 = diabetes_df[col].quantile(0.25)\n",
    "    percentile_75 = diabetes_df[col].quantile(0.75)\n",
    "    iqr = percentile_75 - percentile_25 # Inter Quartile Range\n",
    "    \n",
    "    # Determine the upper and lower boundaries for outliers\n",
    "    # The lower and upper boundaries are less than the bottom whisker or greater than the top whisker\n",
    "    #cut_off = iqr * 3    # three times IQR - for detecting extreme outliers\n",
    "    cut_off = iqr * 1.5  # normally use 1.5 times IQR\n",
    "    lower, upper = percentile_25 - cut_off, percentile_75 + cut_off\n",
    "    print(f\"col: {col}, lower: {lower}, upper: {upper},  median_val: {median_val}\")\n",
    "    \n",
    "    # Replace all outliers in column with median value\n",
    "    # Replace all values that are less than the lower boundary OR those that are greater than the upper boundary\n",
    "    diabetes_df[col] = np.where((diabetes_df[col] < lower) | (diabetes_df[col] > upper), median_val, diabetes_df[col])\n",
    "    # **where: just like where method in SQL\n",
    "\n",
    "\n",
    "#diabetes_df.describe()\n",
    "diabetes_df.describe().T  # T means transpose - will transpose rows to column"
   ]
  },
  {
   "cell_type": "markdown",
   "id": "57a1d0d8",
   "metadata": {},
   "source": [
    "# 7. Row manipulation"
   ]
  },
  {
   "cell_type": "markdown",
   "id": "31d3010c",
   "metadata": {},
   "source": [
    "a. Drop rows with certain values\n"
   ]
  },
  {
   "cell_type": "code",
   "execution_count": null,
   "id": "63084d7d",
   "metadata": {},
   "outputs": [],
   "source": [
    "# Drop rows where blood_pressure is greater than 120 - considering it as an outlier\n",
    "# Ref: https://pandas.pydata.org/pandas-docs/stable/reference/api/pandas.DataFrame.drop.html\n",
    "\n",
    "# Specify the condition\n",
    "condition = diabetes_df['blood_pressure'] > 120\n",
    "# If you wanted to check if there are rows with null values in this column, then your condition would be:\n",
    "#condition = diabetes_df['blood_pressure'] = \" \" # Note that there is a single space between the quotes\n",
    "# You can also specify more complex conditions e.g.\n",
    "#condition = diabetes_df['blood_pressure'] > 120 and diabetes_df['bmi'] == 0 \n",
    "# note two equal signs to test for equality\n",
    "#condition = diabetes_df['blood_pressure'] > 120 and diabetes_df['bmi'] != 0 \n",
    "# != means not equal\n",
    "\n",
    "# Display the rows\n",
    "diabetes_df[condition] \n",
    "\n",
    "# The above statement will filter the rows according to the condition specified \n",
    "# and the output atomatrically displayed\n",
    "# However, for the output to be automatically display, \n",
    "# the statement should be the last one in the cell\n",
    "# If you want to execute some other statements, place them in the next cell"
   ]
  },
  {
   "cell_type": "code",
   "execution_count": null,
   "id": "89dd4e5c",
   "metadata": {},
   "outputs": [],
   "source": [
    "# Then drop the rows according to the previously defined condition (if you decide to)\n",
    "diabetes_df.drop(diabetes_df[condition].index, axis=0, inplace=True) # axis=0 drop rows, 1 is for columns\n",
    "\n",
    "# Check\n",
    "condition = diabetes_df['blood_pressure'] > 110 # set this lower than 120 so you can see some rows\n",
    "diabetes_df[condition] # the output from this statement will display as it's the last statement"
   ]
  },
  {
   "cell_type": "markdown",
   "id": "141e07f6",
   "metadata": {},
   "source": [
    "a. Rename columns\n"
   ]
  },
  {
   "cell_type": "code",
   "execution_count": null,
   "id": "18a818ed",
   "metadata": {},
   "outputs": [],
   "source": [
    "# SUPPOSE you wanted to change the names of one or more columns \n",
    "# This is just sample code to illustrate how to do it\n",
    "# The code is commented out to prevent it from running (executing)\n",
    "\n",
    "# Define a dictionary mapping current column names to new names\n",
    "# Can change the name of one or more columns\n",
    "new_column_names = {\n",
    "   'bmi': 'BMI', \n",
    "   'pedigree': 'diabetes_pedigree_function', \n",
    "}\n",
    "\n",
    "# Rename\n",
    "#diabetes_df = diabetes_df.rename(columns=new_column_names)\n",
    "\n",
    "# Check\n",
    "#diabetes_df.head()"
   ]
  },
  {
   "cell_type": "markdown",
   "id": "899c65c0",
   "metadata": {},
   "source": [
    "c. Drop a column\n"
   ]
  },
  {
   "cell_type": "code",
   "execution_count": null,
   "id": "a34ab6d1",
   "metadata": {},
   "outputs": [],
   "source": [
    "# ANOTHER ILLUSTRATION\n",
    "# Suppose you want to drop the column \"blood_pressure\"\n",
    "# Again, this is just sample code to illustrate how to do it\n",
    "# The code is commented out to prevent it from running (executing)\n",
    "diabetes_df.drop(['blood_pressure'], axis=1, inplace=True)"
   ]
  },
  {
   "cell_type": "markdown",
   "id": "ad9c6dcd",
   "metadata": {},
   "source": [
    "Renaming values (if required)\n"
   ]
  },
  {
   "cell_type": "code",
   "execution_count": null,
   "id": "b6f50032",
   "metadata": {},
   "outputs": [],
   "source": [
    "# ANOTHER ILLUSTRATION\n",
    "# Suppose you want to rename the outcomes 0/1 to \"Yes\" and \"no\"\n",
    "# Again, this is just sample code to illustrate how to do it\n",
    "# The code is commented out to prevent it from running (executing)\n",
    "\n",
    "#diabetes_df[\"outcome\"] = diabetes_df[\"outcome\"].replace({1:\"Yes\",0:\"No\"})\n",
    "\n",
    "# Check\n",
    "#diabetes_df.head()"
   ]
  },
  {
   "cell_type": "markdown",
   "id": "a67cd355",
   "metadata": {},
   "source": [
    "# 10. View cleaned data and pickle"
   ]
  },
  {
   "cell_type": "code",
   "execution_count": null,
   "id": "c594ac3f",
   "metadata": {},
   "outputs": [],
   "source": [
    "# You might want to do a final check on the data\n",
    "diabetes_df.head() \n",
    "\n",
    "# You could also save the cleaned data as a CSV file\n",
    "# However, when reloading the file again, floats might have changed back to strings (need to change again)\n",
    "#diabetes_df.to_csv('diabetes-cleaned.csv', index=False) # Save in current folder\n",
    "#diabetes_df.to_csv('data/diabetes-cleaned.csv', index=False) # save in data folder - make sure it exists\n",
    "# If you saved the cleaned data as a CSV file, you can view its contents using Excel\n",
    "\n",
    "# Note: If the last statement is saving to CSV, then you wont see the result of the head() function.\n",
    "# Either, put the statement diabetes_df.head() last in the cell\n",
    "# Or, use print(diabetes_df.head()), but then you will lose the nice formatting!"
   ]
  },
  {
   "cell_type": "code",
   "execution_count": null,
   "id": "602e7a93",
   "metadata": {},
   "outputs": [],
   "source": [
    "# Save the object as a pickle in a file \n",
    "joblib.dump(diabetes_df, 'diabetes-cleaned.pkl') \n",
    "  \n",
    "# In the other notebook    \n",
    "# Load the model from the file \n",
    "#diabetes_df = joblib.load('diabetes-cleaned.pkl') "
   ]
  }
 ],
 "metadata": {
  "kernelspec": {
   "display_name": "Python 3",
   "language": "python",
   "name": "python3"
  },
  "language_info": {
   "codemirror_mode": {
    "name": "ipython",
    "version": 3
   },
   "file_extension": ".py",
   "mimetype": "text/x-python",
   "name": "python",
   "nbconvert_exporter": "python",
   "pygments_lexer": "ipython3",
   "version": "3.7.10"
  }
 },
 "nbformat": 4,
 "nbformat_minor": 5
}
