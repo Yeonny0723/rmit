{
 "cells": [
  {
   "cell_type": "markdown",
   "id": "d6d29228",
   "metadata": {},
   "source": [
    "# ISYS2407 Information Systems Solutions & Design\n",
    "\n",
    "# Exploratory Data Analysis"
   ]
  },
  {
   "cell_type": "code",
   "execution_count": null,
   "id": "ae355093",
   "metadata": {
    "scrolled": true
   },
   "outputs": [],
   "source": [
    "!pip install joblib\n",
    "!pip install seaborn\n",
    "!pip install scikit-learn \n",
    "!pip install imblearn"
   ]
  },
  {
   "cell_type": "markdown",
   "id": "b8f2988b",
   "metadata": {},
   "source": [
    "# 1. Import libraries"
   ]
  },
  {
   "cell_type": "code",
   "execution_count": null,
   "id": "91ced85b",
   "metadata": {},
   "outputs": [],
   "source": [
    "# Pandas is the main library used for exploratory data analysis\n",
    "# Pandas is built on top of numpy \n",
    "# Numpy allows fast advanced mathematical operations on large amount of data\n",
    "import numpy as np\n",
    "import pandas as pd\n",
    "\n",
    "# Library to assign missing values - not used here, better do it in EDA\n",
    "from sklearn.impute import SimpleImputer\n",
    "\n",
    "# Matplotlib is the main plotting library for python\n",
    "# Seaborn is built on top of matplotlib and it's easier to use\n",
    "# pandas also have same basic plotting capabilities which are again built on top of matplotlib\n",
    "import matplotlib.pyplot as plt\n",
    "# The next statement instructs matplotlib to plot the graphs inside the notebook\n",
    "%matplotlib inline \n",
    "import seaborn as sns\n",
    "\n",
    "# Another useful plotting library is plotly - it is used for interactive plots"
   ]
  },
  {
   "cell_type": "markdown",
   "id": "a3bb8b2c",
   "metadata": {},
   "source": [
    "# 2. Load the data"
   ]
  },
  {
   "cell_type": "code",
   "execution_count": null,
   "id": "8aa81990",
   "metadata": {},
   "outputs": [],
   "source": [
    "# Load the data - assuming its stored on your computer\n",
    "# diabetes_df = pd.read_csv(\"diabetes.csv\") # the suffix _df stands for dataframe\n",
    "#diabetes_df = pd.read_csv(\"data/diabetes.csv\") # if the CSV file is in folder data\n",
    "\n",
    "# If you suspect missing values are coded in non-standard ways\n",
    "#missing_values = ['?', '--', ' ', 'NA', 'N/A', '-'] # you can add more in the list\n",
    "#diabetes_df = pd.read_csv(\"diabetes.csv\", na_values=missing_values)\n",
    "\n",
    "# If delimiter is not a comma\n",
    "#diabetes_df = pd.read_csv(\"diabetes.csv\", delimiter=';')"
   ]
  },
  {
   "cell_type": "code",
   "execution_count": null,
   "id": "93b80170",
   "metadata": {},
   "outputs": [],
   "source": [
    "# Load the data from the web\n",
    "url = 'https://raw.githubusercontent.com/jbrownlee/Datasets/master/pima-indians-diabetes.csv'\n",
    "col_names = ['num_pregnancies', \n",
    "             'glucose', \n",
    "             'blood_pressure', \n",
    "             'skin_thickness', \n",
    "             'insulin', \n",
    "             'bmi', \n",
    "             'pedigree', \n",
    "             'age', \n",
    "             'outcome']\n",
    "diabetes_df = pd.read_csv(url, header=None, names=col_names)\n"
   ]
  },
  {
   "cell_type": "code",
   "execution_count": null,
   "id": "1ae5ea4f",
   "metadata": {},
   "outputs": [],
   "source": [
    "# What is the data type?\n",
    "#type(diabetes_df)\n",
    "# or\n",
    "print(type(diabetes_df))"
   ]
  },
  {
   "cell_type": "code",
   "execution_count": null,
   "id": "f4ea917c",
   "metadata": {},
   "outputs": [],
   "source": [
    "diabetes_df.info()"
   ]
  },
  {
   "cell_type": "markdown",
   "id": "a7109e25",
   "metadata": {},
   "source": [
    "# 3. Data overview"
   ]
  },
  {
   "cell_type": "code",
   "execution_count": null,
   "id": "10902c7b",
   "metadata": {},
   "outputs": [],
   "source": [
    "# Print the number of rows and columns (as done before)\n",
    "# We are here using the python3 f-string which is a lot easier to use\n",
    "# The format is f\"\"\n",
    "# Inside the single or double quotation marks, you can have any combination of strings and variables\n",
    "# Variables are enclosed within curly brackets {}\n",
    "# The f-string dosumentation can be found at https://www.python.org/dev/peps/pep-0498/\n",
    "print(f\"Rows     : {diabetes_df.shape[0]}\")\n",
    "print(f\"Columns  : {diabetes_df.shape[1]}\" ,)\n",
    "print()\n",
    "\n",
    "# Print the column names\n",
    "print(f\"Features : {diabetes_df.columns.tolist()}\")\n",
    "print()\n",
    "\n",
    "# Print the total number of null values in the data\n",
    "# Null values are - NaN (not a number), or blank spaces\n",
    "# 0 is not a null value - it's a valid value\n",
    "print(f\"Missing values :  {diabetes_df.isnull().sum().values.sum()}\")\n",
    "\n",
    "# For each column, print the number of unique values\n",
    "# 2 unique values in column - binary categorical variable e.g. male/female, yes/no, etc\n",
    "# less than 6 values in columns - still a categorical value but with more than 2 classes\n",
    "# large number of values - continuous variable\n",
    "print(f\"Unique values :  {diabetes_df.nunique()}\") \n",
    "# the number of unique values. \n",
    "#large number -> more likely to be continuous variables | small number -> be independant variables\n",
    "# none:= 1, yes:=0\n"
   ]
  },
  {
   "cell_type": "code",
   "execution_count": null,
   "id": "98dfa13a",
   "metadata": {},
   "outputs": [],
   "source": [
    "diabetes_df.describe().T # T means transpose rows to columns"
   ]
  },
  {
   "cell_type": "markdown",
   "id": "ac172c3a",
   "metadata": {},
   "source": [
    "# 4. Correlations"
   ]
  },
  {
   "cell_type": "markdown",
   "id": "0b62267b",
   "metadata": {},
   "source": [
    "How strong is the relationship between two values"
   ]
  },
  {
   "cell_type": "markdown",
   "id": "5aba1c22",
   "metadata": {},
   "source": [
    "a. Using the dataframe's corr()  function"
   ]
  },
  {
   "cell_type": "code",
   "execution_count": null,
   "id": "4b17fcdf",
   "metadata": {},
   "outputs": [],
   "source": [
    "# 1. Use the corr() function from the dataframe to compute the correlations and display as text\n",
    "corr = diabetes_df.corr()\n",
    "print(type(corr))\n",
    "print(corr)"
   ]
  },
  {
   "cell_type": "markdown",
   "id": "6484bd06",
   "metadata": {},
   "source": [
    "b. Using Seaborn's pairplot() function"
   ]
  },
  {
   "cell_type": "code",
   "execution_count": null,
   "id": "d1749015",
   "metadata": {},
   "outputs": [],
   "source": [
    "# SLOW! \n",
    "# Takes a few minutes to plot (for the diabetes dataset) and might get warnings if problems with the data\n",
    "# Dead slow for large datasets - you might want to skip it and use alternative methods\n",
    "\n",
    "# 2. Using seaborn's pairplot() to plot the correlations as scatter plots and regression lines\n",
    "# The seaborn pairplot documentation can be found \n",
    "# at https://seaborn.pydata.org/generated/seaborn.pairplot.html\n",
    "sns.set(style='ticks')\n",
    "#plt.figure(figsize=(8,16)) #figsize(width, height) in inches - default(6.4, 4.8) - customise as required\n",
    "sns.pairplot(diabetes_df, kind=\"reg\") # kind=\"reg\" means plot the regression line as well\n",
    "\n",
    "# If you want to save the graph to disk\n",
    "plt.tight_layout() # automatically adjusts subplot to fit in the figure area\n",
    "plt.savefig('correlation-pairplot.png', dpi=300) # dpi=300 is print quality\n",
    "\n",
    "# The histograms shown on the diagonals are the frequency distributions of the values in each column\n",
    "# The order is: 'num_pregnancies', 'glucose', 'blood_pressure', 'skin_thickness', \n",
    "# 'insulin', 'bmi', 'pedigree', 'age', 'outcome'\n",
    "\n",
    "# And the other cells show the correlations between pairs of variables\n",
    "# Example in the first row, the y axis is Pregnancies\n",
    "# The variables on the x-axis can be seen at the bottom of the graph\n",
    "# e.g. col2=glucose, col3=blood_pressure, etc\n",
    "# The strength of the correlation depends on the slope of the regression line"
   ]
  },
  {
   "cell_type": "markdown",
   "id": "cd220b88",
   "metadata": {},
   "source": [
    "c. Using Seaborn's heatmap() function"
   ]
  },
  {
   "cell_type": "code",
   "execution_count": null,
   "id": "a0abf401",
   "metadata": {},
   "outputs": [],
   "source": [
    "# 3. Using seaborn to plot the correlations as a heatmap\n",
    "# Ref: https://seaborn.pydata.org/generated/seaborn.heatmap.html\n",
    "plt.rcParams['figure.figsize'] = (20, 15) #figsize(width, height) inches, default(6.4, 4.8), customise as required\n",
    "sns.heatmap(diabetes_df.corr(), annot = True, linewidths=.5, cmap=\"YlGnBu\") # YellowGreenBlue. color -> : strongly correlated\n",
    "plt.title('Correlation between features', fontsize = 30)\n",
    "#plt.show() # Do not use this if you want to save to file\n",
    "\n",
    "# If you want to save the graph to disk\n",
    "plt.tight_layout() # automatically adjusts subplot to fit in the figure area\n",
    "plt.savefig('correlation-heatmap-rectangular.png', dpi=300) # dpi=300 is print quality\n",
    "\n",
    "# The colours show the strength of the correlations - from yellow (weak) to dark blue (strong)\n",
    "\n",
    "# Cells on the diagonal are dark blue (corr=1) - correlation of the variable with itself"
   ]
  },
  {
   "cell_type": "markdown",
   "id": "db28cbdc",
   "metadata": {},
   "source": [
    "Since the rectangle diagram above contains duplicated result of top & bottom and left & right, \n",
    "it is recommended to display the half of only non-duplicated databset"
   ]
  },
  {
   "cell_type": "code",
   "execution_count": null,
   "id": "3565d9a7",
   "metadata": {},
   "outputs": [],
   "source": [
    "# Changing the shape of the matrix from rectangular to triangular\n",
    "# https://heartbeat.fritz.ai/seaborn-heatmaps-13-ways-to-customize-correlation-matrix-visualizations-f1c49c816f07\n",
    "matrix = np.triu(diabetes_df.corr())\n",
    "sns.heatmap(diabetes_df.corr(), annot=True, mask=matrix,  cmap=\"YlGnBu\")\n",
    "\n",
    "# If you want to save the graph to disk\n",
    "plt.tight_layout() # automatically adjusts subplot to fit in the figure area\n",
    "plt.savefig('correlation-heatmap-traingular.png', dpi=300) # dpi=300 is print quality"
   ]
  },
  {
   "cell_type": "markdown",
   "id": "e11a5b7a",
   "metadata": {},
   "source": [
    "# 5. Visualizations"
   ]
  },
  {
   "cell_type": "markdown",
   "id": "b1cc9166",
   "metadata": {},
   "source": [
    "b. What is the percentage of diabetics in the sample?\n",
    "\n",
    "because the data we are going to represent contains only value of 0 and 1.\n",
    "\n",
    "In this case, be sure that the unbalanced data could be due to skewness & unbalance of dataset. "
   ]
  },
  {
   "cell_type": "code",
   "execution_count": null,
   "id": "4032f646",
   "metadata": {},
   "outputs": [],
   "source": [
    "# Plot a pie chart\n",
    "# Get the labels from the \"outcome\" column - use keys() function to get the labels\n",
    "#labels = diabetes_df[\"outcome\"].value_counts().keys().tolist() # [0,1] not meaningful\n",
    "labels = [\"Healthy\", \"Diabetic\"]\n",
    "print(f\"labels: {labels}\")\n",
    "\n",
    "# Get the values from the \"outcome\" column - use values to get the values\n",
    "values = diabetes_df[\"outcome\"].value_counts().values.tolist()\n",
    "print(f\"values: {values}\")\n",
    "\n",
    "# Use matplotlib to draw a simple pie chart\n",
    "# Ref: https://matplotlib.org/3.1.1/api/_as_gen/matplotlib.pyplot.pie.html\n",
    "plt.figure(figsize=(6,6)) #figsize(width, height) in inches - default(6.4, 4.8) - customise as required\n",
    "plt.pie(values, labels=labels, autopct='%1.1f%%', shadow=True)\n",
    "plt.title(\"Proportion of diabetics in sample\", fontsize=20) # use fontsize=20 if title is too small\n",
    "\n",
    "# If the fonts are too small with the default settings, you can adjust them as required\n",
    "#plt.rc('font', size=10)        # adjust default text sizes (if required)\n",
    "#plt.rc('axes', labelsize=10)  # adjust fontsize of labels on x/y axes (if required)\n",
    "#plt.rc('axes', titlesize=10)  # adjust fontsize of titles on x/y axes (if required)\n",
    "#plt.rc('xtick', labelsize=10) # adjust fontsize of tick labels on x axis (if required)\n",
    "#plt.rc('ytick', labelsize=10) # adjust fontsize of tick labels on y axis (if required)\n",
    "#plt.rc('legend', fontsize=10) # adjust fontsize of legend (if required)\n",
    "#plt.rc('figure', titlesize=30) # adjust fontsize of legend (if required)\n",
    "\n",
    "#plt.show() # Do not use this is you want to save to file - the file will be empty\n",
    "\n",
    "# Save the graph to disk\n",
    "plt.tight_layout() # automatically adjusts subplot to fit in the figure area\n",
    "plt.savefig('proportion-diabetics.png', dpi=300)"
   ]
  },
  {
   "cell_type": "markdown",
   "id": "160223d6",
   "metadata": {},
   "source": [
    "c. Split the data into non-diabetics and diabetics"
   ]
  },
  {
   "cell_type": "code",
   "execution_count": null,
   "id": "d48ad23f",
   "metadata": {},
   "outputs": [],
   "source": [
    "# Non-diabetics\n",
    "non_diabetics_df = diabetes_df[diabetes_df[\"outcome\"]==0]\n",
    "non_diabetics_df.head()"
   ]
  },
  {
   "cell_type": "code",
   "execution_count": null,
   "id": "22e8e1c7",
   "metadata": {},
   "outputs": [],
   "source": [
    "# Diabetics\n",
    "diabetics_df = diabetes_df[diabetes_df[\"outcome\"]==1]\n",
    "diabetics_df.head()"
   ]
  },
  {
   "cell_type": "markdown",
   "id": "26451502",
   "metadata": {},
   "source": [
    "# 6. Visualisation of continuous variables"
   ]
  },
  {
   "cell_type": "markdown",
   "id": "2c8a46d0",
   "metadata": {},
   "source": [
    "a. Impact of glucose on diabetes"
   ]
  },
  {
   "cell_type": "code",
   "execution_count": null,
   "id": "29257d7b",
   "metadata": {},
   "outputs": [],
   "source": [
    "# Plot frequency distributions of non-diabetics and diabetics\n",
    "# Ref:https://seaborn.pydata.org/generated/seaborn.distplot.html\n",
    "\n",
    "plt.figure(figsize=(12,8)) # figsize(width, height) in inches - default(6.4, 4.8)\n",
    "\n",
    "# Histogram with absolute numbers on y-axis (kde=False - default)\n",
    "#sns.histplot(data=non_diabetics_df, x=\"glucose\", color=\"skyblue\", label=\"Non-Diabetics\")\n",
    "#sns.histplot(data=diabetics_df, x=\"glucose\", color=\"red\", label=\"Diabetics\")\n",
    "\n",
    "# Histogram with density on y-xis (kde=True)\n",
    "sns.histplot(data=non_diabetics_df, x=\"glucose\", color=\"skyblue\", label=\"Non-Diabetics\", kde=True)\n",
    "sns.histplot(data=diabetics_df, x=\"glucose\", color=\"red\", label=\"Diabetics\", kde=True)\n",
    "\n",
    "plt.legend()\n",
    "plt.title('Impact of glucose levels on diabetes', fontsize = 30)\n",
    "plt.xlabel(\"Glucose levels (mg)\") # **be sure to add units!!\n",
    "plt.ylabel(\"Density\")\n",
    "\n",
    "# If you want to save the graph to disk\n",
    "plt.tight_layout() # automatically adjusts subplot to fit in the figure area\n",
    "plt.savefig('glucose-diabetes.png', dpi=300) # dpi=300 is print quality"
   ]
  },
  {
   "cell_type": "markdown",
   "id": "df70c8e9",
   "metadata": {},
   "source": [
    "b. Impact of BMI on diabetes"
   ]
  },
  {
   "cell_type": "code",
   "execution_count": null,
   "id": "a5d9c8ee",
   "metadata": {},
   "outputs": [],
   "source": [
    "# Plot frequency distributions of non-diabetics and diabetics\n",
    "plt.figure(figsize=(12,8)) # figsize(width, height) in inches - default(6.4, 4.8)\n",
    "\n",
    "sns.histplot(data=non_diabetics_df, x=\"bmi\", color=\"skyblue\", label=\"Non-Diabetics\", kde=True)\n",
    "sns.histplot(data=diabetics_df, x=\"bmi\", color=\"red\", label=\"Diabetics\", kde=True)\n",
    "\n",
    "plt.title('Impact of BMI on diabetes', fontsize = 30)\n",
    "plt.xlabel(\"BMI\")\n",
    "plt.ylabel(\"Density\")\n",
    "plt.legend()\n",
    "\n",
    "# If you want to save the graph to disk\n",
    "plt.tight_layout() # automatically adjusts subplot to fit in the figure area\n",
    "plt.savefig('bmi-diabetes.png', dpi=300) # dpi=300 is print quality"
   ]
  },
  {
   "cell_type": "markdown",
   "id": "e6ce75b2",
   "metadata": {},
   "source": [
    "c. Impact of age on diabetes\n"
   ]
  },
  {
   "cell_type": "code",
   "execution_count": null,
   "id": "c14e6eb1",
   "metadata": {},
   "outputs": [],
   "source": [
    "# Plot frequency distributions of non-diabetics and diabetics\n",
    "plt.figure(figsize=(12,8)) # figsize(width, height) in inches - default(6.4, 4.8)\n",
    "\n",
    "sns.histplot(data=non_diabetics_df, x=\"age\", color=\"skyblue\", label=\"Non-Diabetics\", kde=True)\n",
    "sns.histplot(data=diabetics_df, x=\"age\", color=\"red\", label=\"Diabetics\", kde=True)\n",
    "\n",
    "plt.title('Impact of age on diabetes', fontsize = 30)\n",
    "plt.xlabel(\"Age (years)\")\n",
    "plt.ylabel(\"Density\")\n",
    "plt.legend()\n",
    "\n",
    "# If you want to save the graph to disk\n",
    "plt.tight_layout() # automatically adjusts subplot to fit in the figure area\n",
    "plt.savefig('age-diabetes.png', dpi=300) # dpi=300 is print quality"
   ]
  },
  {
   "cell_type": "markdown",
   "id": "fdbf8ea5",
   "metadata": {},
   "source": [
    "# 5.2. Visualisation of categorical variables"
   ]
  },
  {
   "cell_type": "code",
   "execution_count": null,
   "id": "02b7eb7e",
   "metadata": {},
   "outputs": [],
   "source": [
    "# When checking the number of unique values, the blood pressure column was found to contain 47 values\n",
    "# This is evidence that it's a continuous variable\n",
    "# Classification algorithms do not work well with continuous values - too many values\n",
    "# No need to categorise them. How? Need some domain knowlege\n",
    "# less than 80 = normal, between 80-89 = high, greater than 89 = very high\n",
    "# Define a function to classify this\n",
    "# Pass the whole dataframe as parameter\n",
    "# And return a category\n",
    "def bp_category(df): \n",
    "    if df[\"blood_pressure\"] <= 80:\n",
    "        return \"bp_normal\"\n",
    "    elif (df[\"blood_pressure\"] > 80) & (df[\"blood_pressure\"] <= 89):\n",
    "        return \"bp_high\"\n",
    "    elif df[\"blood_pressure\"] > 89:\n",
    "        return \"bp_very_high\"\n",
    "\n",
    "# Use apply() to apply a lambda function for all the rows of the dataframe\n",
    "# The lambda function calls the previously defined function bp_category()\n",
    "# To which it passes the diabetes_df as parameter\n",
    "# And a category is returned and saved in a new column named \"blood_pressure_category\"\n",
    "# https://pandas.pydata.org/pandas-docs/stable/reference/api/pandas.DataFrame.apply.html\n",
    "# the backslash is a line continuation character - there should be nothing after it, not even a space\n",
    "diabetes_df[\"blood_pressure_category\"] = \\\n",
    "    diabetes_df.apply(lambda diabetes_df:bp_category(diabetes_df), axis = 1) # axis=1 = row-wise\n",
    "# Check\n",
    "diabetes_df.head()\n",
    "# This works as there's a new column named \"blood_pressure_category\"\n",
    "# The column \"blood_pressure\" is no longer needed and hence can be deleted \n",
    "\n",
    "# This example has shown how to add a column using apply() and a lambda function\n",
    "# There are other ways to add columns to a dataframe\n",
    "# You can google this \n",
    "# e.g https://pandas.pydata.org/docs/getting_started/intro_tutorials/05_add_columns.html"
   ]
  },
  {
   "cell_type": "code",
   "execution_count": null,
   "id": "80a62ef3",
   "metadata": {},
   "outputs": [],
   "source": [
    "# Separate the resulting data into non-diabetics and diabetics\n",
    "non_diabetics_df = diabetes_df[diabetes_df[\"outcome\"]==0]\n",
    "diabetics_df = diabetes_df[diabetes_df[\"outcome\"]==1] \n",
    "# DO not confuse between \"diabetics_df\" and \"diabetes_df\"!!!!!!!!"
   ]
  },
  {
   "cell_type": "markdown",
   "id": "f70ebe03",
   "metadata": {},
   "source": [
    "a. Plotting of categorical data on separate charts"
   ]
  },
  {
   "cell_type": "code",
   "execution_count": null,
   "id": "1b7b35b7",
   "metadata": {},
   "outputs": [],
   "source": [
    "# Plot the charts using Seaborn's countplot()\n",
    "\n",
    "# AS 2 separate plots side by side\n",
    "fig, ax = plt.subplots(1,2)\n",
    "ax1 = sns.countplot(x=\"blood_pressure_category\", data=non_diabetics_df, ax=ax[0]) # Non-diabetics dataset\n",
    "ax2 = sns.countplot(x=\"blood_pressure_category\", data=diabetics_df, ax=ax[1]) # Diabetics dataset\n",
    "\n",
    "# If the default labels are too small - adjust them to make them bigger\n",
    "#ax1.set_title(\"Healthy\") \n",
    "#ax1.set_xlabel(\"Blood Pressure\")\n",
    "#ax2.set_title(\"Diabetics\")\n",
    "#ax2.set_xlabel(\"Blood Pressure\")\n",
    "# Adjust the font sizes\n",
    "ax1.set_title(\"Healthy\", fontsize=25)\n",
    "ax1.set_xlabel(\"Blood Pressure\", fontsize=25)\n",
    "ax2.set_title(\"Diabetics\", fontsize=25)\n",
    "ax2.set_xlabel(\"Blood Pressure\", fontsize=25)\n",
    "ax1.tick_params(axis='both', which='both', labelsize=30) # x/y axes, minor/major ticks for ax1\n",
    "ax2.tick_params(axis='both', which='both', labelsize=30) # x/y axes, minor/major ticks for ax2\n",
    "\n",
    "\n",
    "# If you want to save the graph to disk\n",
    "plt.tight_layout() # automatically adjusts subplot to fit in the figure area\n",
    "plt.savefig('blood_pressure_category-side-by-side.png', dpi=300) # dpi=300 is print quality"
   ]
  },
  {
   "cell_type": "markdown",
   "id": "4ea079d1",
   "metadata": {},
   "source": [
    "b. Plotting of categorical data on a single chart\n"
   ]
  },
  {
   "cell_type": "code",
   "execution_count": null,
   "id": "d12abacf",
   "metadata": {},
   "outputs": [],
   "source": [
    "# Plot the charts using Seaborn's countplot()\n",
    "\n",
    "# As a single plot\n",
    "sns.countplot(x='blood_pressure_category', \n",
    "              data=diabetes_df, # Whole dataset (non-diabetics + diabetics)\n",
    "              hue='outcome') # grouped by outcome\n",
    "\n",
    "# If the default labels are too small - adjust them to make them bigger\n",
    "#plt.title('Blood Pressure - Healthy vs Diabetics')\n",
    "#plt.xlabel(\"Blood Pressure\") # Change the xlabel - \"blood_pressure_category\" not user friendly\n",
    "#plt.ylabel(\"Count\")\n",
    "# Adjust the font sizes\n",
    "plt.title('Blood Pressure - Healthy vs Diabetics', fontsize=30)\n",
    "plt.xlabel(\"Blood Pressure\", fontsize=30)\n",
    "plt.ylabel(\"Count\", fontsize=30)\n",
    "plt.tick_params(axis='both', which='both', labelsize=20) # x/y axes, minor/major ticks for plt\n",
    "\n",
    "# If you want to save the graph to disk\n",
    "plt.tight_layout() # automatically adjusts subplot to fit in the figure area\n",
    "plt.savefig('blood_pressure_category-single.png', dpi=300) # dpi=300 is print quality"
   ]
  },
  {
   "cell_type": "markdown",
   "id": "0cc808c8",
   "metadata": {},
   "source": [
    "# 6. Univariate and bivariate visualisations"
   ]
  },
  {
   "cell_type": "markdown",
   "id": "fb543750",
   "metadata": {},
   "source": [
    "a. Example of univariate visualisation"
   ]
  },
  {
   "cell_type": "code",
   "execution_count": null,
   "id": "1e365df0",
   "metadata": {},
   "outputs": [],
   "source": [
    "# This is a quick example of plotting the distribution of a continuous variable (age) as a histogram.\n",
    "# We have used the distplot before\n",
    "# So this a a barebones example \n",
    "# Need to customize the plot for a more decent appearence if you want to include it in a management report\n",
    "\n",
    "sns.histplot(data=diabetics_df, x=\"age\", color=\"green\", kde=True)\n",
    "\n",
    "# If you want to save the graph to disk\n",
    "plt.tight_layout() # automatically adjusts subplot to fit in the figure area\n",
    "plt.savefig('age-histogram.png', dpi=300) # dpi=300 is print quality"
   ]
  },
  {
   "cell_type": "markdown",
   "id": "90c15cdb",
   "metadata": {},
   "source": [
    "b. Example of bivariate visualisation\n"
   ]
  },
  {
   "cell_type": "code",
   "execution_count": null,
   "id": "114f9d78",
   "metadata": {},
   "outputs": [],
   "source": [
    "# Regression plot\n",
    "# Ref: https://seaborn.pydata.org/generated/seaborn.regplot.html\n",
    "\n",
    "sns.regplot(x=\"age\", y=\"num_pregnancies\", data=diabetes_df, \n",
    "            scatter_kws={\"color\": \"green\"}, line_kws={\"color\": \"red\"})\n",
    "\n",
    "plt.title('Pregnancies by age', fontsize = 30)\n",
    "plt.xlabel(\"Age\", fontsize=30)\n",
    "plt.ylabel(\"Number of pregnancies\", fontsize=30)\n",
    "plt.tick_params(axis='both', which='both', labelsize=25) # x/y axes, minor/major ticks for plt\n",
    "\n",
    "# If you want to save the graph to disk\n",
    "plt.tight_layout() # automatically adjusts subplot to fit in the figure area\n",
    "plt.savefig('scatterplot-age-pregnancies.png', dpi=300) # dpi=300 is print quality"
   ]
  },
  {
   "cell_type": "code",
   "execution_count": null,
   "id": "89cf5e3f",
   "metadata": {},
   "outputs": [],
   "source": []
  },
  {
   "cell_type": "code",
   "execution_count": null,
   "id": "83c36da5",
   "metadata": {},
   "outputs": [],
   "source": []
  },
  {
   "cell_type": "code",
   "execution_count": null,
   "id": "89ae4830",
   "metadata": {},
   "outputs": [],
   "source": []
  }
 ],
 "metadata": {
  "kernelspec": {
   "display_name": "Python 3",
   "language": "python",
   "name": "python3"
  },
  "language_info": {
   "codemirror_mode": {
    "name": "ipython",
    "version": 3
   },
   "file_extension": ".py",
   "mimetype": "text/x-python",
   "name": "python",
   "nbconvert_exporter": "python",
   "pygments_lexer": "ipython3",
   "version": "3.7.10"
  }
 },
 "nbformat": 4,
 "nbformat_minor": 5
}
