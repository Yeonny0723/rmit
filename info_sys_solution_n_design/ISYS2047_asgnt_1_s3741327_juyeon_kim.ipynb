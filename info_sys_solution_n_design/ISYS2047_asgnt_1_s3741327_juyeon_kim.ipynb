{
 "cells": [
  {
   "cell_type": "markdown",
   "metadata": {},
   "source": [
    "<br>\n",
    "<h1><center>Assignment 01</center></h1>\n",
    "<h4><center>[ISYS2047] Information Systems Solutions and Design</center></h4>\n",
    "<br>\n",
    "<div style=\"text-align: right\"><h4>Name: Juyeon</h4></div>\n",
    "<div style=\"text-align: right\"><h4>Student ID: S3741327</h4></div>"
   ]
  },
  {
   "cell_type": "markdown",
   "metadata": {},
   "source": [
    "<br><br><br>\n",
    "\n",
    "Please note that each task is written in a single code cell and the printed result of each question in one cell is separated with '='*50 string for easy-reading."
   ]
  },
  {
   "cell_type": "markdown",
   "metadata": {},
   "source": [
    "<br> \n",
    "\n",
    "## Data >\n",
    "- the given suppliers data is stored in cell below as a form of dict with name 'suppliers'."
   ]
  },
  {
   "cell_type": "code",
   "execution_count": 1,
   "metadata": {},
   "outputs": [],
   "source": [
    "suppliers = [\n",
    "    {\n",
    "        \"city\": \"Greenway\",\n",
    "        \"contact_firstname\": \"Thomas\",\n",
    "        \"contact_lastname\": \"Brown\",\n",
    "        \"contact_title\": \"Mr\",\n",
    "        \"country\": \"Australia\",\n",
    "        \"email\": \"thomas6246.brown@gmail.com\",\n",
    "        \"notes\": \"\",\n",
    "        \"phone\": \"(02) 8770 4857\",\n",
    "        \"postcode\": \"2900\",\n",
    "        \"state\": \"ACT\",\n",
    "        \"street_address\": \"Level 9/2 Michelle Follow\",\n",
    "        \"supplier_id\": 51,\n",
    "        \"supplier_name\": \"Reyes-Goodman\"\n",
    "    },\n",
    "    {\n",
    "        \"city\": \"Dundee\",\n",
    "        \"contact_firstname\": \"Kenneth\",\n",
    "        \"contact_lastname\": \"Thompson\",\n",
    "        \"contact_title\": \"Mr\",\n",
    "        \"country\": \"Australia\",\n",
    "        \"email\": \"kenneth6514.thompson@gmail.com\",\n",
    "        \"notes\": \"\",\n",
    "        \"phone\": \"(02) 4023 4795\",\n",
    "        \"postcode\": \"2370\",\n",
    "        \"state\": \"NSW\",\n",
    "        \"street_address\": \"99 Lopez Heights\",\n",
    "        \"supplier_id\": 52,\n",
    "        \"supplier_name\": \"Cisneros-White\"\n",
    "    },\n",
    "    {\n",
    "        \"city\": \"Benambra\",\n",
    "        \"contact_firstname\": \"Brandi\",\n",
    "        \"contact_lastname\": \"Holland\",\n",
    "        \"contact_title\": \"Mrs\",\n",
    "        \"country\": \"Australia\",\n",
    "        \"email\": \"brandi1472.holland@gmail.com\",\n",
    "        \"notes\": \"\",\n",
    "        \"phone\": \"(03) 9961 5347\",\n",
    "        \"postcode\": \"3900\",\n",
    "        \"state\": \"VIC\",\n",
    "        \"street_address\": \"Flat 37/183 Angela Reserve\",\n",
    "        \"supplier_id\": 53,\n",
    "        \"supplier_name\": \"Morales, Martin and Crane\"\n",
    "    },\n",
    "    {\n",
    "        \"city\": \"Claremont\",\n",
    "        \"contact_firstname\": \"Ryan\",\n",
    "        \"contact_lastname\": \"Guerrero\",\n",
    "        \"contact_title\": \"Mr\",\n",
    "        \"country\": \"Australia\",\n",
    "        \"email\": \"ryan416.guerrero@gmail.com\",\n",
    "        \"notes\": \"\",\n",
    "        \"phone\": \"(08) 9267 7911\",\n",
    "        \"postcode\": \"6910\",\n",
    "        \"state\": \"WA\",\n",
    "        \"street_address\": \"9 Nicholson Circlet\",\n",
    "        \"supplier_id\": 54,\n",
    "        \"supplier_name\": \"Brown PLC\"\n",
    "    }\n",
    "]\n"
   ]
  },
  {
   "cell_type": "markdown",
   "metadata": {},
   "source": [
    "<br> \n",
    "\n",
    "## Programming >"
   ]
  },
  {
   "cell_type": "markdown",
   "metadata": {},
   "source": [
    "<br>\n",
    "\n",
    "### ***Task A1 - Process a single dictionary***"
   ]
  },
  {
   "cell_type": "code",
   "execution_count": 2,
   "metadata": {},
   "outputs": [],
   "source": [
    "sup = suppliers[0].copy()  # randomly select and copy a supplier given that all the suppliers are shareing the same keys"
   ]
  },
  {
   "cell_type": "code",
   "execution_count": 3,
   "metadata": {},
   "outputs": [
    {
     "name": "stdout",
     "output_type": "stream",
     "text": [
      "A set of keys:  {'phone', 'street_address', 'contact_firstname', 'supplier_id', 'email', 'state', 'contact_lastname', 'contact_title', 'city', 'notes', 'postcode', 'country', 'supplier_name'}\n",
      "==================================================\n",
      "Value: Greenway\n",
      "Value: Thomas\n",
      "Value: Brown\n",
      "Value: Mr\n",
      "Value: Australia\n",
      "Value: thomas6246.brown@gmail.com\n",
      "Value: \n",
      "Value: (02) 8770 4857\n",
      "Value: 2900\n",
      "Value: ACT\n",
      "Value: Level 9/2 Michelle Follow\n",
      "Value: 51\n",
      "Value: Reyes-Goodman\n",
      "==================================================\n",
      "key name mobile doesn't exists!\n",
      "==================================================\n",
      "items all deleted\n",
      "==================================================\n"
     ]
    }
   ],
   "source": [
    "# 1 > What are the keys of the supplier dictionary? \n",
    "sup_keys = set()  # set() is being used to return only non-duplicated values. \n",
    "for k in sup:\n",
    "    sup_keys.add(k)\n",
    "print('A set of keys: ', sup_keys) \n",
    "print('='*50)\n",
    "\n",
    "\n",
    "# 2 > How would you display the values of the selected dictionary?\n",
    "for v in sup.values():\n",
    "    print('Value:', v)\n",
    "print('='*50)    \n",
    "\n",
    "\n",
    "# 3 > Does the dictionary contain a key named “mobile”?  \n",
    "target_key = 'mobile'\n",
    "if target_key in sup.keys():\n",
    "    print('key named {} exists!'.format(target_key))\n",
    "else:\n",
    "    print(\"key name {} doesn't exists!\".format(target_key))\n",
    "print('='*50)    \n",
    "\n",
    "\n",
    "# 4 > How would you delete all the items from the dictionary? How would you check that the items have been actually deleted?\n",
    "sup.clear() # delete all the items from dict\n",
    "\n",
    "if sup: # An empty iterable is interpreted as False value in Python. In order to check if all the items are deleted, give cleared dict as the condition in if statement. If all items are deleted, the value will be False so that else statement will be executed. \n",
    "    print('items yet deleted')\n",
    "else:\n",
    "    print('items all deleted')\n",
    "print('='*50)"
   ]
  },
  {
   "cell_type": "markdown",
   "metadata": {},
   "source": [
    "<br>\n",
    "\n",
    "### ***Task A2 - Process a list of dictionaries***"
   ]
  },
  {
   "cell_type": "code",
   "execution_count": 4,
   "metadata": {},
   "outputs": [
    {
     "name": "stdout",
     "output_type": "stream",
     "text": [
      "Length of the suppliers:  4\n",
      "==================================================\n",
      "Firstname of supplier with id 52 is now :Ken\n",
      "==================================================\n",
      "We successfully append new supplier!\n",
      "==================================================\n",
      "We failed to remove new supplier!\n",
      "==================================================\n"
     ]
    }
   ],
   "source": [
    "import copy\n",
    "suppliers_cpy = copy.deepcopy(suppliers)  # deepcopy suppliers to prevent data from getting unexpectedly changed.\n",
    "\n",
    "# 1 > Find the length of the provided suppliers list.\n",
    "print(f'Length of the suppliers: ', len(suppliers_cpy))\n",
    "print('='*50) \n",
    "\n",
    "\n",
    "# 2 > Change contact_firstname of supplier with supplier_id=52 from Kenneth to Ken\n",
    "for i in range(len(suppliers_cpy)):\n",
    "    if suppliers_cpy[i]['supplier_id'] == 52:\n",
    "        suppliers_cpy[i]['contact_firstname'] = 'Ken'\n",
    "        print(f\"Firstname of supplier with id 52 is now: {suppliers_cpy[i]['contact_firstname']}\")\n",
    "        break\n",
    "print('='*50) \n",
    "\n",
    "    \n",
    "# 3 > Add a new supplier to the list with the following details\n",
    "k_v_pairs_str = '''city: Lancaster\n",
    "contact_firstname: Tracy\n",
    "contact_lastname: Wilson\n",
    "contact_title: Mrs\n",
    "country: Australia\n",
    "email: tracy4587.wilson@gmail.com\n",
    "notes: \"\"\n",
    "phone: (03) 9323 0663\n",
    "postcode: 3620\n",
    "state: VIC\n",
    "street_address: Suite 141/8 Black Dale\n",
    "supplier_id: 55\n",
    "supplier_name: Scott Ltd'''\n",
    "\n",
    "new_sup = {}\n",
    "for x in k_v_pairs_str.splitlines():  # convert string sentence into dict\n",
    "    k_n_v = x.split(':')\n",
    "    key = k_n_v[0].strip()\n",
    "    value = \"\".join(k_n_v[1:]).strip()\n",
    "    new_sup[key] = value\n",
    "\n",
    "suppliers_cpy.append(new_sup)\n",
    "if new_sup in suppliers_cpy:\n",
    "    print('We successfully append new supplier!')\n",
    "else:\n",
    "    print('We failed to append new supplier!')\n",
    "print('='*50) \n",
    "\n",
    "\n",
    "# 4 > Remove supplier with supplier_id=53 from the list\n",
    "for sup in suppliers_cpy:\n",
    "    if sup['supplier_id'] == 53:\n",
    "        suppliers_cpy.remove(sup)\n",
    "\n",
    "if new_sup in suppliers_cpy:\n",
    "    print('We failed to remove new supplier!')\n",
    "else:\n",
    "    print('We successfully remove new supplier!')\n",
    "print('='*50) "
   ]
  },
  {
   "cell_type": "markdown",
   "metadata": {},
   "source": [
    "<br>\n",
    "\n",
    "### ***Task A3 - User-defined functions***"
   ]
  },
  {
   "cell_type": "code",
   "execution_count": 5,
   "metadata": {},
   "outputs": [
    {
     "name": "stdout",
     "output_type": "stream",
     "text": [
      "length of list: 5, sum of list: 116, average of list: 23.2, min of list: 1\n"
     ]
    }
   ],
   "source": [
    "def return_computed_value(lst):\n",
    "    lst_len = 0\n",
    "    lst_sum = 0\n",
    "    lst_avrg = None\n",
    "    lst_min = None\n",
    "    \n",
    "    for el in lst:\n",
    "        if lst_len == 0:\n",
    "            lst_min = el\n",
    "        else:\n",
    "            if el < lst_min:\n",
    "                lst_min = el\n",
    "        \n",
    "        lst_len += 1\n",
    "        lst_sum += el\n",
    "    \n",
    "    if lst_len:  # ZeroDivisionError if division by zero. Keep the value None if there is ZeroDivisionError.\n",
    "        lst_avrg = lst_sum / lst_len\n",
    "    \n",
    "    return lst_len, lst_sum, lst_avrg, lst_min\n",
    "\n",
    "\n",
    "lst_input = [1, 55, 10, 20, 30]\n",
    "lst_len, lst_sum, lst_avrg, lst_min = return_computed_value(lst_input)\n",
    "print(f'length of list: {lst_len}, sum of list: {lst_sum}, average of list: {lst_avrg}, min of list: {lst_min}')"
   ]
  },
  {
   "cell_type": "markdown",
   "metadata": {},
   "source": [
    "<br>\n",
    "\n",
    "### ***Task A4 - Iteration***"
   ]
  },
  {
   "cell_type": "code",
   "execution_count": 6,
   "metadata": {},
   "outputs": [
    {
     "name": "stdout",
     "output_type": "stream",
     "text": [
      "supplier_name:  ['Reyes-Goodman', 'Cisneros-White', 'Morales, Martin and Crane', 'Brown PLC']\n",
      "==================================================\n",
      "Joined supplier name: Reyes-Goodman; Cisneros-White; Morales, Martin and Crane; Brown PLC\n"
     ]
    }
   ],
   "source": [
    "# 1 > Process the list of dictionaries to create a list of supplier_name.\n",
    "supplier_name = []\n",
    "supplier_name += [sup['supplier_name'] for sup in suppliers]\n",
    "print('supplier_name: ', supplier_name)\n",
    "print('='*50) \n",
    "\n",
    "\n",
    "# 2 > Join the supplier_name with a semi-colon followed by space to form a single string\n",
    "joined_sup_names = '; '.join(supplier_name)\n",
    "print(f'Joined supplier name: {joined_sup_names}')"
   ]
  },
  {
   "cell_type": "markdown",
   "metadata": {},
   "source": [
    "<br>\n",
    "\n",
    "### ***Task A5 - Create a dictionary***"
   ]
  },
  {
   "cell_type": "code",
   "execution_count": 7,
   "metadata": {},
   "outputs": [
    {
     "name": "stdout",
     "output_type": "stream",
     "text": [
      "Newly created dictionary:  {'discontinued': 0, 'lead_time_days': 3, 'product_category': 'Wireless Phone', 'product_description': 'Display 5.1-inches Camera ...', 'product_id': 155, 'product_name': 'Samsung Galaxy S5, Black 16GB (Sprint)', 'reorder_level': 18, 'unit_price': 699.99}\n"
     ]
    }
   ],
   "source": [
    "import re\n",
    "\n",
    "k_v_pairs_str = '''discontinued: 0\n",
    "lead_time_days: 3\n",
    "product_category: Wireless Phone\n",
    "product_description: Display: 5.1-inches Camera: ...\n",
    "product_id: 155\n",
    "product_name: Samsung Galaxy S5, Black 16GB (Sprint)\n",
    "reorder_level: 18\n",
    "unit_price: 699.99'''\n",
    "\n",
    "prod_155 = {}\n",
    "for x in k_v_pairs_str.splitlines():\n",
    "    k_n_v = x.split(':')\n",
    "    key = k_n_v[0].strip()\n",
    "    value = \"\".join(k_n_v[1:]).strip()\n",
    "    \n",
    "    # Type casting a value\n",
    "    if re.match('^[0-9]+$', value):  # if value has a form of int. e.g 155\n",
    "        value = int(value)  # type casting to int\n",
    "\n",
    "    elif re.match('^[\\d+\\.\\d+]+$', value):  # if value has a form of float. e.g 699.99\n",
    "        value = float(value)  # type casting to float\n",
    "\n",
    "    else:\n",
    "        pass  # keep the type as str\n",
    "    \n",
    "    prod_155[key] = value\n",
    "    \n",
    "print('Newly created dictionary: ',prod_155)"
   ]
  },
  {
   "cell_type": "markdown",
   "metadata": {},
   "source": [
    "<br>\n",
    "\n",
    "### ***Task A6 - Filter items from a list***"
   ]
  },
  {
   "cell_type": "code",
   "execution_count": 8,
   "metadata": {},
   "outputs": [
    {
     "name": "stdout",
     "output_type": "stream",
     "text": [
      "- length of updated list: 2, \n",
      "- content of list: [{'city': 'Dundee', 'contact_firstname': 'Kenneth', 'contact_lastname': 'Thompson', 'contact_title': 'Mr', 'country': 'Australia', 'email': 'kenneth6514.thompson@gmail.com', 'notes': '', 'phone': '(02) 4023 4795', 'postcode': '2370', 'state': 'NSW', 'street_address': '99 Lopez Heights', 'supplier_id': 52, 'supplier_name': 'Cisneros-White'}, {'city': 'Benambra', 'contact_firstname': 'Brandi', 'contact_lastname': 'Holland', 'contact_title': 'Mrs', 'country': 'Australia', 'email': 'brandi1472.holland@gmail.com', 'notes': '', 'phone': '(03) 9961 5347', 'postcode': '3900', 'state': 'VIC', 'street_address': 'Flat 37/183 Angela Reserve', 'supplier_id': 53, 'supplier_name': 'Morales, Martin and Crane'}]\n"
     ]
    }
   ],
   "source": [
    "new_sup_lst = list(filter(lambda sup: (sup['state'] in ['VIC','NSW']), suppliers))\n",
    "print(f'- length of updated list: {len(new_sup_lst)}, \\n- content of list: {new_sup_lst}')"
   ]
  },
  {
   "cell_type": "markdown",
   "metadata": {},
   "source": [
    "<br>\n",
    "\n",
    "### ***Task A7 - Process items from a list***"
   ]
  },
  {
   "cell_type": "code",
   "execution_count": 9,
   "metadata": {},
   "outputs": [
    {
     "name": "stdout",
     "output_type": "stream",
     "text": [
      "[{'Greenway': '51, Reyes-Goodman'}, {'Dundee': '52, Cisneros-White'}, {'Benambra': '53, Morales, Martin and Crane'}, {'Claremont': '54, Brown PLC'}]\n"
     ]
    }
   ],
   "source": [
    "new_formatted_sup = list(map(lambda sup: {sup['city']: ', '.join([str(sup['supplier_id']), sup['supplier_name']])}, suppliers))\n",
    "print(new_formatted_sup)"
   ]
  },
  {
   "cell_type": "markdown",
   "metadata": {},
   "source": [
    "<br>\n",
    "\n",
    "### Task A8 - Date processing and formatting"
   ]
  },
  {
   "cell_type": "code",
   "execution_count": 10,
   "metadata": {},
   "outputs": [
    {
     "name": "stdout",
     "output_type": "stream",
     "text": [
      "Python date object: 2022-03-02 00:00:00\n",
      "Date object printed in Australian format:  28-02-22 00:00.000000\n"
     ]
    }
   ],
   "source": [
    "import datetime\n",
    "from dateutil.parser import parse\n",
    "\n",
    "aus_date_str_1 = '02/03/2022'  # day, month, year\n",
    "aus_date_reformatted = datetime.datetime.strptime(aus_date_str_1, '%d/%m/%Y').strftime('%Y-%m-%d')\n",
    "py_date_obj_1 = parse(aus_date_reformatted)\n",
    "print('Python date object:', py_date_obj_1)\n",
    "\n",
    "\n",
    "aus_date_str_2 = '28/02/2022'  # day, month, year\n",
    "py_date_obj_2 = datetime.datetime.strptime(aus_date_str_2, \"%d/%m/%Y\")\n",
    "py_date_obj_aus_f = py_date_obj_2.strftime('%d-%m-%y %M:%S.%f')  # Date object in Australian format\n",
    "print('Date object printed in Australian format: ', py_date_obj_aus_f)"
   ]
  },
  {
   "cell_type": "markdown",
   "metadata": {},
   "source": [
    "<br>\n",
    "\n",
    "### Task A9 - Regex"
   ]
  },
  {
   "cell_type": "code",
   "execution_count": 11,
   "metadata": {},
   "outputs": [
    {
     "name": "stdout",
     "output_type": "stream",
     "text": [
      "area code: 07\n"
     ]
    }
   ],
   "source": [
    "import re\n",
    "\n",
    "def extract_area_code(phone_num):\n",
    "    area_code = re.search('\\([0-9]+\\)', line_phone_num).group().replace(')', '').replace('(', '')\n",
    "    return area_code\n",
    "\n",
    "\n",
    "line_phone_num = '(07) 3806 8534'\n",
    "area_code = extract_area_code(line_phone_num)\n",
    "print('area code:', area_code)"
   ]
  },
  {
   "cell_type": "markdown",
   "metadata": {},
   "source": [
    "<br> \n",
    "\n",
    "### ***Task A10 - Object-Oriented Programming***"
   ]
  },
  {
   "cell_type": "code",
   "execution_count": 12,
   "metadata": {},
   "outputs": [
    {
     "name": "stdout",
     "output_type": "stream",
     "text": [
      "Updated Phone number:  None\n"
     ]
    }
   ],
   "source": [
    "class Supplier:\n",
    "    def __init__(self, sup_dict):\n",
    "        self.city = sup_dict['city']\n",
    "        self.contact_firstname = sup_dict['contact_firstname']\n",
    "        self.contact_lastname = sup_dict['contact_lastname']\n",
    "        self.contact_title = sup_dict['contact_title']\n",
    "        self.country = sup_dict['country']\n",
    "        self.email = sup_dict['email']\n",
    "        self.notes = sup_dict['notes']\n",
    "        self.phone = sup_dict['phone']\n",
    "        self.postcode = sup_dict['postcode']\n",
    "        self.state = sup_dict['state']\n",
    "        self.street_address = sup_dict['street_address']\n",
    "        self.supplier_id = sup_dict['supplier_id']\n",
    "        self.supplier_name = sup_dict['supplier_name']\n",
    "\n",
    "    def set_phone(self, phone):\n",
    "        self.phone = phone\n",
    "        \n",
    "    def get_phone(self):\n",
    "        return self.phone\n",
    "    \n",
    "supp = Supplier(suppliers[2])  # pass suppliers[2] and instantiate an object\n",
    "new_phone = '(03) 9961 5555'  # Set the phone to (03) 9961 5555\n",
    "updated_phone = supp.set_phone(new_phone)  # Get the supplier phone\n",
    "print('Updated Phone number: ' , updated_phone)"
   ]
  }
 ],
 "metadata": {
  "kernelspec": {
   "display_name": "Python 3 (ipykernel)",
   "language": "python",
   "name": "python3"
  },
  "language_info": {
   "codemirror_mode": {
    "name": "ipython",
    "version": 3
   },
   "file_extension": ".py",
   "mimetype": "text/x-python",
   "name": "python",
   "nbconvert_exporter": "python",
   "pygments_lexer": "ipython3",
   "version": "3.9.7"
  }
 },
 "nbformat": 4,
 "nbformat_minor": 4
}
