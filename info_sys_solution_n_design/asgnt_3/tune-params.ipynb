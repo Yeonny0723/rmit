{
 "cells": [
  {
   "cell_type": "markdown",
   "id": "2eebf3dd",
   "metadata": {},
   "source": [
    "<br>\n",
    "<br>\n",
    "<br>\n",
    "<h1><center>Assignment 03</center></h1>\n",
    "<h2><center>Exploratory Data Analysis</center></h2>\n",
    "<h4><center>[ISYS2047] Information Systems Solutions and Design</center></h4>\n",
    "<h3><center>Hyper Parameter Tuning</center></h3>\n",
    "<br>\n",
    "<div style=\"text-align: right\"><h4>Student name: Juyeon Kim</h4></div>\n",
    "<div style=\"text-align: right\"><h4>Student ID: S3741327</h4></div>\n",
    "<br></br>"
   ]
  },
  {
   "cell_type": "markdown",
   "id": "24fe4bea",
   "metadata": {},
   "source": [
    "## Import libraries"
   ]
  },
  {
   "cell_type": "code",
   "execution_count": 1,
   "id": "021f14f9",
   "metadata": {},
   "outputs": [],
   "source": [
    "# Library for pickling\n",
    "import joblib\n",
    "\n",
    "# Miscellabeous libraries\n",
    "import numpy as np\n",
    "import pandas as pd\n",
    "#import collections\n",
    "#import time\n",
    "\n",
    "# Model libraries\n",
    "from sklearn.linear_model import LogisticRegression\n",
    "from sklearn.neighbors import KNeighborsClassifier\n",
    "from sklearn.svm import SVC\n",
    "from sklearn.ensemble import RandomForestClassifier\n",
    "from sklearn.naive_bayes import GaussianNB\n",
    "\n",
    "# Library for performing grid search\n",
    "from sklearn.model_selection import GridSearchCV\n",
    "\n",
    "# Metrics library\n",
    "#from sklearn.metrics import accuracy_score\n",
    "#from sklearn.metrics import confusion_matrix\n",
    "#from sklearn.metrics import recall_score\n",
    "#from sklearn.metrics import precision_score\n",
    "from sklearn.metrics import f1_score\n",
    "#from sklearn.metrics import classification_report\n",
    "#from sklearn.metrics import roc_curve\n",
    "#from sklearn.metrics import auc"
   ]
  },
  {
   "cell_type": "markdown",
   "id": "1e572539",
   "metadata": {},
   "source": [
    "# 1. Load the pickled training and testing sets"
   ]
  },
  {
   "cell_type": "markdown",
   "id": "dd84d82c",
   "metadata": {},
   "source": [
    "## 1.1. Load dataset for KNN"
   ]
  },
  {
   "cell_type": "code",
   "execution_count": 2,
   "id": "99a8e1f7",
   "metadata": {},
   "outputs": [
    {
     "name": "stdout",
     "output_type": "stream",
     "text": [
      "train data: (4800, 11) (4800,)\n",
      "test data: (1200, 11) (1200,)\n"
     ]
    }
   ],
   "source": [
    "# Load the pickled files\n",
    "X_train_knn = joblib.load('X_train-knn.pkl')  \n",
    "y_train_knn = joblib.load('y_train-knn.pkl')\n",
    "X_test_knn = joblib.load('X_test-knn.pkl')  \n",
    "y_test_knn = joblib.load('y_test-knn.pkl')\n",
    "\n",
    "# Check\n",
    "print(\"train data:\", X_train_knn.shape, y_train_knn.shape)\n",
    "print(\"test data:\", X_test_knn.shape, y_test_knn.shape)"
   ]
  },
  {
   "cell_type": "code",
   "execution_count": 3,
   "id": "1fc72030",
   "metadata": {},
   "outputs": [
    {
     "data": {
      "text/html": [
       "<div>\n",
       "<style scoped>\n",
       "    .dataframe tbody tr th:only-of-type {\n",
       "        vertical-align: middle;\n",
       "    }\n",
       "\n",
       "    .dataframe tbody tr th {\n",
       "        vertical-align: top;\n",
       "    }\n",
       "\n",
       "    .dataframe thead th {\n",
       "        text-align: right;\n",
       "    }\n",
       "</style>\n",
       "<table border=\"1\" class=\"dataframe\">\n",
       "  <thead>\n",
       "    <tr style=\"text-align: right;\">\n",
       "      <th></th>\n",
       "      <th>yrs_experience</th>\n",
       "      <th>family_size</th>\n",
       "      <th>education_level</th>\n",
       "      <th>income</th>\n",
       "      <th>fixed_deposit_acct</th>\n",
       "      <th>bpc_mg_low</th>\n",
       "      <th>bpc_mg_moderate</th>\n",
       "      <th>bpc_mg_no</th>\n",
       "      <th>bpc_cs_high</th>\n",
       "      <th>bpc_cs_low</th>\n",
       "      <th>bpc_cs_medium</th>\n",
       "    </tr>\n",
       "  </thead>\n",
       "  <tbody>\n",
       "    <tr>\n",
       "      <th>2973</th>\n",
       "      <td>-0.819489</td>\n",
       "      <td>1.0</td>\n",
       "      <td>0.0</td>\n",
       "      <td>-1.548229</td>\n",
       "      <td>0.0</td>\n",
       "      <td>0</td>\n",
       "      <td>0</td>\n",
       "      <td>1</td>\n",
       "      <td>0</td>\n",
       "      <td>1</td>\n",
       "      <td>0</td>\n",
       "    </tr>\n",
       "    <tr>\n",
       "      <th>2774</th>\n",
       "      <td>1.536079</td>\n",
       "      <td>4.0</td>\n",
       "      <td>0.0</td>\n",
       "      <td>1.383690</td>\n",
       "      <td>0.0</td>\n",
       "      <td>0</td>\n",
       "      <td>0</td>\n",
       "      <td>1</td>\n",
       "      <td>0</td>\n",
       "      <td>1</td>\n",
       "      <td>0</td>\n",
       "    </tr>\n",
       "    <tr>\n",
       "      <th>3281</th>\n",
       "      <td>1.451951</td>\n",
       "      <td>2.0</td>\n",
       "      <td>1.0</td>\n",
       "      <td>-0.703837</td>\n",
       "      <td>0.0</td>\n",
       "      <td>0</td>\n",
       "      <td>0</td>\n",
       "      <td>1</td>\n",
       "      <td>0</td>\n",
       "      <td>1</td>\n",
       "      <td>0</td>\n",
       "    </tr>\n",
       "    <tr>\n",
       "      <th>2512</th>\n",
       "      <td>-0.735361</td>\n",
       "      <td>1.0</td>\n",
       "      <td>0.0</td>\n",
       "      <td>0.210922</td>\n",
       "      <td>0.0</td>\n",
       "      <td>0</td>\n",
       "      <td>0</td>\n",
       "      <td>1</td>\n",
       "      <td>0</td>\n",
       "      <td>1</td>\n",
       "      <td>0</td>\n",
       "    </tr>\n",
       "    <tr>\n",
       "      <th>457</th>\n",
       "      <td>0.947187</td>\n",
       "      <td>4.0</td>\n",
       "      <td>2.0</td>\n",
       "      <td>-0.352006</td>\n",
       "      <td>0.0</td>\n",
       "      <td>0</td>\n",
       "      <td>0</td>\n",
       "      <td>1</td>\n",
       "      <td>0</td>\n",
       "      <td>1</td>\n",
       "      <td>0</td>\n",
       "    </tr>\n",
       "  </tbody>\n",
       "</table>\n",
       "</div>"
      ],
      "text/plain": [
       "      yrs_experience  family_size  education_level    income  \\\n",
       "2973       -0.819489          1.0              0.0 -1.548229   \n",
       "2774        1.536079          4.0              0.0  1.383690   \n",
       "3281        1.451951          2.0              1.0 -0.703837   \n",
       "2512       -0.735361          1.0              0.0  0.210922   \n",
       "457         0.947187          4.0              2.0 -0.352006   \n",
       "\n",
       "      fixed_deposit_acct  bpc_mg_low  bpc_mg_moderate  bpc_mg_no  bpc_cs_high  \\\n",
       "2973                 0.0           0                0          1            0   \n",
       "2774                 0.0           0                0          1            0   \n",
       "3281                 0.0           0                0          1            0   \n",
       "2512                 0.0           0                0          1            0   \n",
       "457                  0.0           0                0          1            0   \n",
       "\n",
       "      bpc_cs_low  bpc_cs_medium  \n",
       "2973           1              0  \n",
       "2774           1              0  \n",
       "3281           1              0  \n",
       "2512           1              0  \n",
       "457            1              0  "
      ]
     },
     "execution_count": 3,
     "metadata": {},
     "output_type": "execute_result"
    }
   ],
   "source": [
    "X_train_knn.head()"
   ]
  },
  {
   "cell_type": "markdown",
   "id": "7a211ee0",
   "metadata": {},
   "source": [
    "## 1.2. Load dataset for Random Forest"
   ]
  },
  {
   "cell_type": "code",
   "execution_count": 4,
   "id": "ecba3a25",
   "metadata": {},
   "outputs": [
    {
     "name": "stdout",
     "output_type": "stream",
     "text": [
      "train data: (4800, 13) (4800,)\n",
      "test data: (1200, 13) (1200,)\n"
     ]
    }
   ],
   "source": [
    "# Load the pickled files\n",
    "X_train_rf = joblib.load('X_train-rf.pkl')  \n",
    "y_train_rf = joblib.load('y_train-rf.pkl')\n",
    "X_test_rf = joblib.load('X_test-rf.pkl')  \n",
    "y_test_rf = joblib.load('y_test-rf.pkl')\n",
    "\n",
    "# Check\n",
    "print(\"train data:\", X_train_rf.shape, y_train_rf.shape)\n",
    "print(\"test data:\", X_test_rf.shape, y_test_rf.shape)"
   ]
  },
  {
   "cell_type": "code",
   "execution_count": 5,
   "id": "12d95dc5",
   "metadata": {},
   "outputs": [
    {
     "data": {
      "text/html": [
       "<div>\n",
       "<style scoped>\n",
       "    .dataframe tbody tr th:only-of-type {\n",
       "        vertical-align: middle;\n",
       "    }\n",
       "\n",
       "    .dataframe tbody tr th {\n",
       "        vertical-align: top;\n",
       "    }\n",
       "\n",
       "    .dataframe thead th {\n",
       "        text-align: right;\n",
       "    }\n",
       "</style>\n",
       "<table border=\"1\" class=\"dataframe\">\n",
       "  <thead>\n",
       "    <tr style=\"text-align: right;\">\n",
       "      <th></th>\n",
       "      <th>age</th>\n",
       "      <th>yrs_experience</th>\n",
       "      <th>family_size</th>\n",
       "      <th>education_level</th>\n",
       "      <th>income</th>\n",
       "      <th>share_trading_acct</th>\n",
       "      <th>fixed_deposit_acct</th>\n",
       "      <th>bpc_mg_low</th>\n",
       "      <th>bpc_mg_moderate</th>\n",
       "      <th>bpc_mg_no</th>\n",
       "      <th>bpc_cs_high</th>\n",
       "      <th>bpc_cs_low</th>\n",
       "      <th>bpc_cs_medium</th>\n",
       "    </tr>\n",
       "  </thead>\n",
       "  <tbody>\n",
       "    <tr>\n",
       "      <th>2973</th>\n",
       "      <td>63.0</td>\n",
       "      <td>11.0</td>\n",
       "      <td>1.0</td>\n",
       "      <td>0.0</td>\n",
       "      <td>19.0</td>\n",
       "      <td>0.0</td>\n",
       "      <td>0.0</td>\n",
       "      <td>0</td>\n",
       "      <td>0</td>\n",
       "      <td>1</td>\n",
       "      <td>0</td>\n",
       "      <td>1</td>\n",
       "      <td>0</td>\n",
       "    </tr>\n",
       "    <tr>\n",
       "      <th>2774</th>\n",
       "      <td>35.0</td>\n",
       "      <td>39.0</td>\n",
       "      <td>4.0</td>\n",
       "      <td>0.0</td>\n",
       "      <td>144.0</td>\n",
       "      <td>0.0</td>\n",
       "      <td>0.0</td>\n",
       "      <td>0</td>\n",
       "      <td>0</td>\n",
       "      <td>1</td>\n",
       "      <td>0</td>\n",
       "      <td>1</td>\n",
       "      <td>0</td>\n",
       "    </tr>\n",
       "    <tr>\n",
       "      <th>3281</th>\n",
       "      <td>34.0</td>\n",
       "      <td>38.0</td>\n",
       "      <td>2.0</td>\n",
       "      <td>1.0</td>\n",
       "      <td>55.0</td>\n",
       "      <td>0.0</td>\n",
       "      <td>0.0</td>\n",
       "      <td>0</td>\n",
       "      <td>0</td>\n",
       "      <td>1</td>\n",
       "      <td>0</td>\n",
       "      <td>1</td>\n",
       "      <td>0</td>\n",
       "    </tr>\n",
       "    <tr>\n",
       "      <th>2512</th>\n",
       "      <td>62.0</td>\n",
       "      <td>12.0</td>\n",
       "      <td>1.0</td>\n",
       "      <td>0.0</td>\n",
       "      <td>94.0</td>\n",
       "      <td>0.0</td>\n",
       "      <td>0.0</td>\n",
       "      <td>0</td>\n",
       "      <td>0</td>\n",
       "      <td>1</td>\n",
       "      <td>0</td>\n",
       "      <td>1</td>\n",
       "      <td>0</td>\n",
       "    </tr>\n",
       "    <tr>\n",
       "      <th>457</th>\n",
       "      <td>57.0</td>\n",
       "      <td>32.0</td>\n",
       "      <td>4.0</td>\n",
       "      <td>2.0</td>\n",
       "      <td>70.0</td>\n",
       "      <td>0.0</td>\n",
       "      <td>0.0</td>\n",
       "      <td>0</td>\n",
       "      <td>0</td>\n",
       "      <td>1</td>\n",
       "      <td>0</td>\n",
       "      <td>1</td>\n",
       "      <td>0</td>\n",
       "    </tr>\n",
       "  </tbody>\n",
       "</table>\n",
       "</div>"
      ],
      "text/plain": [
       "       age  yrs_experience  family_size  education_level  income  \\\n",
       "2973  63.0            11.0          1.0              0.0    19.0   \n",
       "2774  35.0            39.0          4.0              0.0   144.0   \n",
       "3281  34.0            38.0          2.0              1.0    55.0   \n",
       "2512  62.0            12.0          1.0              0.0    94.0   \n",
       "457   57.0            32.0          4.0              2.0    70.0   \n",
       "\n",
       "      share_trading_acct  fixed_deposit_acct  bpc_mg_low  bpc_mg_moderate  \\\n",
       "2973                 0.0                 0.0           0                0   \n",
       "2774                 0.0                 0.0           0                0   \n",
       "3281                 0.0                 0.0           0                0   \n",
       "2512                 0.0                 0.0           0                0   \n",
       "457                  0.0                 0.0           0                0   \n",
       "\n",
       "      bpc_mg_no  bpc_cs_high  bpc_cs_low  bpc_cs_medium  \n",
       "2973          1            0           1              0  \n",
       "2774          1            0           1              0  \n",
       "3281          1            0           1              0  \n",
       "2512          1            0           1              0  \n",
       "457           1            0           1              0  "
      ]
     },
     "execution_count": 5,
     "metadata": {},
     "output_type": "execute_result"
    }
   ],
   "source": [
    "X_train_rf.head()"
   ]
  },
  {
   "cell_type": "markdown",
   "id": "28346f8c",
   "metadata": {},
   "source": [
    "# 2. Optimization\n",
    "> ***Result***\n",
    "> - KNeighborsClassifier will find the best set of parameters to improve model performance. "
   ]
  },
  {
   "cell_type": "markdown",
   "id": "1cf3104e",
   "metadata": {},
   "source": [
    "## 2.1. Optimization for KNN"
   ]
  },
  {
   "cell_type": "code",
   "execution_count": 6,
   "id": "b96edab5",
   "metadata": {
    "scrolled": true
   },
   "outputs": [
    {
     "name": "stdout",
     "output_type": "stream",
     "text": [
      "Best params: {'algorithm': 'ball_tree', 'n_neighbors': 20, 'weights': 'distance'}, score: 0.67\n"
     ]
    }
   ],
   "source": [
    "# List of relevant params\n",
    "#     n_neighbors:int, default=5\n",
    "#     weights: {‘uniform’, ‘distance’} or callable, default=’uniform’\n",
    "#     algorithm: {‘auto’, ‘ball_tree’, ‘kd_tree’, ‘brute’}, default=’auto’\n",
    "\n",
    "param_grid = [\n",
    "    {\n",
    "     \"n_neighbors\": range(1, 50), \n",
    "     \"weights\": [\"uniform\", \"distance\"], \n",
    "     \"algorithm\": [\"auto\", \"ball_tree\", \"kd_tree\", \"brute\"]\n",
    "    }\n",
    "]\n",
    "\n",
    "# Instantiate a grid search object and fit it to the training data\n",
    "clf = KNeighborsClassifier()\n",
    "grid = GridSearchCV(clf, param_grid, verbose=0, cv=5, scoring='f1')\n",
    "grid.fit(X_train_knn, y_train_knn)\n",
    "print(f\"Best params: {grid.best_params_}, score: {grid.best_score_:0.2f}\")"
   ]
  },
  {
   "cell_type": "markdown",
   "id": "0d1b920d",
   "metadata": {},
   "source": [
    "## For Random Forest\n",
    "\n",
    "- Please note running below code takes approx 3 hours"
   ]
  },
  {
   "cell_type": "code",
   "execution_count": 7,
   "id": "c489027e",
   "metadata": {},
   "outputs": [
    {
     "name": "stdout",
     "output_type": "stream",
     "text": [
      "Best params: {'criterion': 'gini', 'max_depth': 8, 'max_features': 'sqrt', 'max_leaf_nodes': 30, 'min_samples_leaf': 1}, score: 0.70\n"
     ]
    }
   ],
   "source": [
    "# List of relevant params\n",
    "#     n_estimators: int, default=100\n",
    "#     criterion: {“gini”, “entropy”}, default=”gini”\n",
    "#     max_depth: int, default=None\n",
    "#     min_samples_split: int or float, default=2\n",
    "#     min_samples_leaf: int or float, default=1\n",
    "#     min_weight_fraction_leaf: float, default=0.0\n",
    "#     max_features: {“auto”, “sqrt”, “log2”}, int or float, default=”auto”\n",
    "#     max_leaf_nodes: int, default=None\n",
    "\n",
    "param_grid = [\n",
    "    {\n",
    "        'max_depth': np.arange(1,10), # added\n",
    "        'min_samples_leaf': [1, 2, 5, 7, 10,15,20], # added\n",
    "        'max_leaf_nodes' : [5, 10,15,20,25,30], # added\n",
    "        \"criterion\": [\"gini\", \"entropy\"], \n",
    "        \"max_features\": [\"auto\", \"sqrt\", \"log2\"]\n",
    "    }\n",
    "]\n",
    "\n",
    "# Instantiate a grid search object and fit it to the training data\n",
    "clf = RandomForestClassifier()\n",
    "grid = GridSearchCV(clf, param_grid, verbose=0, cv=5, scoring='f1')\n",
    "grid.fit(X_train_rf, y_train_rf)\n",
    "print(f\"Best params: {grid.best_params_}, score: {grid.best_score_:0.2f}\")"
   ]
  }
 ],
 "metadata": {
  "kernelspec": {
   "display_name": "Python 3",
   "language": "python",
   "name": "python3"
  },
  "language_info": {
   "codemirror_mode": {
    "name": "ipython",
    "version": 3
   },
   "file_extension": ".py",
   "mimetype": "text/x-python",
   "name": "python",
   "nbconvert_exporter": "python",
   "pygments_lexer": "ipython3",
   "version": "3.7.10"
  }
 },
 "nbformat": 4,
 "nbformat_minor": 5
}
