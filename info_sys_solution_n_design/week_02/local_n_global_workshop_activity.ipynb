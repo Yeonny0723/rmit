{
 "cells": [
  {
   "cell_type": "markdown",
   "metadata": {},
   "source": [
    "<br>\n",
    "\n",
    "### 4. Local and global variables"
   ]
  },
  {
   "cell_type": "markdown",
   "metadata": {},
   "source": [
    "- Step  1 - Find a logical error due (fixed)"
   ]
  },
  {
   "cell_type": "code",
   "execution_count": 4,
   "metadata": {},
   "outputs": [
    {
     "name": "stdout",
     "output_type": "stream",
     "text": [
      "This is a local variable\n",
      "This is a global variable\n",
      "This is a changed variable\n",
      "This is a changed variable\n"
     ]
    }
   ],
   "source": [
    "# Define a global variable i.e. visible to the whole program (in this case to all cells in the notebook)\n",
    "a_var = \"This is a global variable\"\n",
    "\n",
    "# Define a function which defines a variable with the same name\n",
    "# The visibility of this variable is local\n",
    "def func_a():\n",
    "    a_var = \"This is a local variable\"\n",
    "    print(a_var)\n",
    " \n",
    "# Call func_a()\n",
    "# 1. What will this print?\n",
    "func_a()    \n",
    "\n",
    "# Define another function with no local copy of a_var\n",
    "def func_b():\n",
    "    print(a_var)\n",
    "   \n",
    "# Call func_b()\n",
    "# 2. What will this print?\n",
    "func_b()  \n",
    "\n",
    "# Define another function which re-assigns the value a_var\n",
    "def func_c():\n",
    "    global a_var\n",
    "    a_var = \"This is a changed variable\" # 3. What does this statement do?\n",
    "    print(a_var)\n",
    "\n",
    "# Call func_c()\n",
    "# 4. What will this print?\n",
    "func_c()    \n",
    "\n",
    "# 5. What will this print?\n",
    "# We changed the value of a_var to \"This is a changed variable\" in func_c()\n",
    "# 6. Did it change the value of the global variable? Why or why not?\n",
    "# 7. What should we do if we wanted func_c() to change the value of the global a_var?\n",
    "print(a_var)"
   ]
  },
  {
   "cell_type": "code",
   "execution_count": null,
   "metadata": {},
   "outputs": [],
   "source": []
  }
 ],
 "metadata": {
  "kernelspec": {
   "display_name": "Python 3 (ipykernel)",
   "language": "python",
   "name": "python3"
  },
  "language_info": {
   "codemirror_mode": {
    "name": "ipython",
    "version": 3
   },
   "file_extension": ".py",
   "mimetype": "text/x-python",
   "name": "python",
   "nbconvert_exporter": "python",
   "pygments_lexer": "ipython3",
   "version": "3.9.7"
  }
 },
 "nbformat": 4,
 "nbformat_minor": 4
}
