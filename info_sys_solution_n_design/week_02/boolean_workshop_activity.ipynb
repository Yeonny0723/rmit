{
 "cells": [
  {
   "cell_type": "markdown",
   "metadata": {},
   "source": [
    "<br>\n",
    "\n",
    "### 2. Boolean"
   ]
  },
  {
   "cell_type": "markdown",
   "metadata": {},
   "source": [
    "- Step 2. Manipulate boolean values"
   ]
  },
  {
   "cell_type": "code",
   "execution_count": 1,
   "metadata": {},
   "outputs": [
    {
     "name": "stdout",
     "output_type": "stream",
     "text": [
      "False\n",
      "False\n",
      "False\n",
      "False\n",
      "False\n"
     ]
    }
   ],
   "source": [
    "# Empty string\n",
    "a_string = \"\"\n",
    "if a_string:\n",
    "    print(True)\n",
    "else:\n",
    "    print(False)\n",
    "    \n",
    "# None string\n",
    "a_string = None\n",
    "if a_string:\n",
    "    print(True)\n",
    "else:\n",
    "    print(False)\n",
    "\n",
    "# Zero number\n",
    "a_number = 0\n",
    "if a_number:\n",
    "    print(True)\n",
    "else:\n",
    "    print(False)\n",
    "    \n",
    "# Empty list\n",
    "a_list = []\n",
    "if a_list:\n",
    "    print(True)\n",
    "else:\n",
    "    print(False)\n",
    "    \n",
    "# Empty dictionary\n",
    "a_dict = {}\n",
    "if a_dict:\n",
    "    print(True)\n",
    "else:\n",
    "    print(False)"
   ]
  },
  {
   "cell_type": "code",
   "execution_count": 5,
   "metadata": {},
   "outputs": [
    {
     "name": "stdout",
     "output_type": "stream",
     "text": [
      "True\n",
      "True\n",
      "True\n",
      "True\n"
     ]
    }
   ],
   "source": [
    "def check_true_false(target):\n",
    "    if target:\n",
    "        print(True)\n",
    "    else:\n",
    "        print(False)\n",
    "        \n",
    "a_string = \"this is a string\"\n",
    "check_true_false(a_string)\n",
    "a_number = 10\n",
    "check_true_false(a_number)\n",
    "a_list.append('hellou?')\n",
    "check_true_false(a_list)\n",
    "a_dict['name'] = 'Yeonny'\n",
    "check_true_false(a_dict)"
   ]
  },
  {
   "cell_type": "markdown",
   "metadata": {},
   "source": [
    "- Step 3.  Use boolean expressions (comparison operators)"
   ]
  },
  {
   "cell_type": "code",
   "execution_count": 9,
   "metadata": {},
   "outputs": [
    {
     "name": "stdout",
     "output_type": "stream",
     "text": [
      "False\n",
      "True\n",
      "False\n",
      "True\n"
     ]
    }
   ],
   "source": [
    "# Create variables\n",
    "x = 7\n",
    "y = 10\n",
    "\n",
    "# Equality operator\n",
    "if x==y:\n",
    "    print(True)\n",
    "else:\n",
    "    print(False)\n",
    "    \n",
    "if x!=y:\n",
    "    print(True)\n",
    "else:\n",
    "    print(False)\n",
    "    \n",
    "if x>=y:\n",
    "    print(True)\n",
    "else:\n",
    "    print(False)\n",
    "\n",
    "if x<y:\n",
    "    print(True)\n",
    "else:\n",
    "    print(False)"
   ]
  },
  {
   "cell_type": "code",
   "execution_count": null,
   "metadata": {},
   "outputs": [],
   "source": []
  },
  {
   "cell_type": "code",
   "execution_count": null,
   "metadata": {},
   "outputs": [],
   "source": []
  },
  {
   "cell_type": "code",
   "execution_count": null,
   "metadata": {},
   "outputs": [],
   "source": []
  },
  {
   "cell_type": "code",
   "execution_count": null,
   "metadata": {},
   "outputs": [],
   "source": []
  },
  {
   "cell_type": "code",
   "execution_count": null,
   "metadata": {},
   "outputs": [],
   "source": []
  }
 ],
 "metadata": {
  "kernelspec": {
   "display_name": "Python 3 (ipykernel)",
   "language": "python",
   "name": "python3"
  },
  "language_info": {
   "codemirror_mode": {
    "name": "ipython",
    "version": 3
   },
   "file_extension": ".py",
   "mimetype": "text/x-python",
   "name": "python",
   "nbconvert_exporter": "python",
   "pygments_lexer": "ipython3",
   "version": "3.9.7"
  }
 },
 "nbformat": 4,
 "nbformat_minor": 4
}
