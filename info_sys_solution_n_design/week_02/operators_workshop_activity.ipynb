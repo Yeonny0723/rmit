{
 "cells": [
  {
   "cell_type": "markdown",
   "metadata": {},
   "source": [
    "<br>\n",
    "\n",
    "### 6. Operators"
   ]
  },
  {
   "cell_type": "markdown",
   "metadata": {},
   "source": [
    "- Step  2 - Arithmetic operators"
   ]
  },
  {
   "cell_type": "code",
   "execution_count": 3,
   "metadata": {},
   "outputs": [
    {
     "name": "stdout",
     "output_type": "stream",
     "text": [
      "15\n",
      "10\n",
      "20\n",
      "4.0\n",
      "0.0\n"
     ]
    }
   ],
   "source": [
    "# Arithmetic operators\n",
    "\n",
    "# 1. Define your variables here\n",
    "x = 10\n",
    "\n",
    "# 2. Write addition code (and print the result)\n",
    "x = x + 5\n",
    "print(x)\n",
    "\n",
    "# 3. Write subtraction code (and print the result)\n",
    "x = x - 5\n",
    "print(x)\n",
    "\n",
    "# 5. Write multiplication code (and print the results)\n",
    "x = x * 2\n",
    "print(x)\n",
    "\n",
    "# 6. Write division code (and print the results)\n",
    "x = x / 5\n",
    "print(x)\n",
    "\n",
    "# 7.  Write integer division code (and print the results)\n",
    "x = x // 5\n",
    "print(x)"
   ]
  },
  {
   "cell_type": "markdown",
   "metadata": {},
   "source": [
    "Step  3 -  Assignment operators"
   ]
  },
  {
   "cell_type": "code",
   "execution_count": 4,
   "metadata": {},
   "outputs": [
    {
     "name": "stdout",
     "output_type": "stream",
     "text": [
      "15\n",
      "10\n",
      "20\n",
      "4.0\n",
      "4.0\n"
     ]
    }
   ],
   "source": [
    "# Assignment operators\n",
    "# 1. Define your variables here\n",
    "x = 10\n",
    "\n",
    "# 2. Write addition code (and print the result)\n",
    "x += 5\n",
    "print(x)\n",
    "\n",
    "# 3. Write subtraction code (and print the result)\n",
    "x -= 5\n",
    "print(x)\n",
    "\n",
    "# 5. Write multiplication code (and print the results)\n",
    "x *= 2\n",
    "print(x)\n",
    "\n",
    "# 6. Write division code (and print the results)\n",
    "x /= 5\n",
    "print(x)\n",
    "\n",
    "# 7.  Write integer division code (and print the results)\n",
    "x // 5\n",
    "print(x)"
   ]
  },
  {
   "cell_type": "markdown",
   "metadata": {},
   "source": [
    "- Step  4 -  Logical operators"
   ]
  },
  {
   "cell_type": "code",
   "execution_count": 7,
   "metadata": {},
   "outputs": [
    {
     "name": "stdout",
     "output_type": "stream",
     "text": [
      "a and b are same False\n",
      "there is at least one False:  True\n",
      "not a is False\n"
     ]
    }
   ],
   "source": [
    "a = True; b = False\n",
    "print('a and b are same', a and b)\n",
    "print('there is at least one False: ', a or b)\n",
    "print('not a is', not a)"
   ]
  },
  {
   "cell_type": "markdown",
   "metadata": {},
   "source": [
    "- Step  5 -  Comparison operators"
   ]
  },
  {
   "cell_type": "markdown",
   "metadata": {},
   "source": [
    "- Step  7 -  Membership operators"
   ]
  },
  {
   "cell_type": "code",
   "execution_count": 8,
   "metadata": {},
   "outputs": [
    {
     "name": "stdout",
     "output_type": "stream",
     "text": [
      "4 is in\n"
     ]
    }
   ],
   "source": [
    "te_list = [1,2,3,4,5]\n",
    "if 4 in te_list:\n",
    "    print('4 is in')"
   ]
  },
  {
   "cell_type": "code",
   "execution_count": null,
   "metadata": {},
   "outputs": [],
   "source": []
  },
  {
   "cell_type": "code",
   "execution_count": null,
   "metadata": {},
   "outputs": [],
   "source": []
  }
 ],
 "metadata": {
  "kernelspec": {
   "display_name": "Python 3 (ipykernel)",
   "language": "python",
   "name": "python3"
  },
  "language_info": {
   "codemirror_mode": {
    "name": "ipython",
    "version": 3
   },
   "file_extension": ".py",
   "mimetype": "text/x-python",
   "name": "python",
   "nbconvert_exporter": "python",
   "pygments_lexer": "ipython3",
   "version": "3.9.7"
  }
 },
 "nbformat": 4,
 "nbformat_minor": 4
}
