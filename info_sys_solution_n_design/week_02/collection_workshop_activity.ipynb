{
 "cells": [
  {
   "cell_type": "markdown",
   "metadata": {},
   "source": [
    "### 1. Collections"
   ]
  },
  {
   "cell_type": "markdown",
   "metadata": {},
   "source": [
    "- Step 2. Create a list"
   ]
  },
  {
   "cell_type": "code",
   "execution_count": 3,
   "metadata": {},
   "outputs": [
    {
     "name": "stdout",
     "output_type": "stream",
     "text": [
      "movie: the hunger game\n",
      "movie: the maze runner\n",
      "movie: sing\n",
      "movie: sing2gether\n",
      "movie: the greatest showman\n",
      "the hunger game\n",
      "['thai tom yam fried rice', 'hotpot', 'fried chicken', 'tteokboki', 'matcha ice cream']\n",
      "no it's not listed :(\n",
      "5\n",
      "[]\n"
     ]
    }
   ],
   "source": [
    "movies = ['the hunger game', 'the maze runner', 'sing', 'sing2gether', 'the greatest showman']\n",
    "netflix_series = ['squid game','hellbound', 'my name', 'sweet home']\n",
    "food = ['thai tom yam fried rice','hotpot','fried chicken', 'tteokboki']\n",
    "\n",
    "# loop\n",
    "for movie in movies:\n",
    "    print('movie:',movie)\n",
    "\n",
    "# find an item\n",
    "print(movies[0])\n",
    "# add an item\n",
    "food.append('matcha ice cream')\n",
    "print(food)\n",
    "\n",
    "# delete an item\n",
    "\n",
    "# check if exists\n",
    "if 'sing3' in movies:\n",
    "    print('yes! sing3 listed!')\n",
    "else:\n",
    "    print(\"no it's not listed :(\")\n",
    "\n",
    "# length of lists\n",
    "print(len(food))\n",
    "\n",
    "# clear the list\n",
    "food.clear()\n",
    "print(food)"
   ]
  },
  {
   "cell_type": "markdown",
   "metadata": {},
   "source": [
    "- Step 3. Create a tuple"
   ]
  },
  {
   "cell_type": "code",
   "execution_count": 12,
   "metadata": {},
   "outputs": [
    {
     "name": "stdout",
     "output_type": "stream",
     "text": [
      "('squid game', 'hellbound', 'my name', 'sweet home')\n",
      "4\n",
      "Yes, squid game is listed!\n",
      "hellbound\n",
      "squid game\n",
      "hellbound\n",
      "my name\n",
      "sweet home\n",
      "\n"
     ]
    }
   ],
   "source": [
    "# Create a tuple\n",
    "netflix_series_tpl = tuple(netflix_series)\n",
    "print(netflix_series_tpl)\n",
    "\n",
    "# Length of tuple\n",
    "print(len(netflix_series_tpl)) \n",
    "\n",
    "# Check if item exists\n",
    "if \"squid game\" in netflix_series_tpl:\n",
    "  print(\"Yes, squid game is listed!\")\n",
    "\n",
    "# Print an item\n",
    "print(netflix_series_tpl[1])\n",
    "\n",
    "# Cannot change, add or remove items\n",
    "# Cannot clear the tuple\n",
    "\n",
    "# Loop through the tuple\n",
    "for x in netflix_series_tpl:\n",
    "  print(x)\n",
    "print()"
   ]
  },
  {
   "cell_type": "markdown",
   "metadata": {},
   "source": [
    "- Step 4. dict"
   ]
  },
  {
   "cell_type": "code",
   "execution_count": 22,
   "metadata": {},
   "outputs": [
    {
     "name": "stdout",
     "output_type": "stream",
     "text": [
      "{'course_name': 'Information Systems Solutions and Design', 'course_code': 'ISYS2047'}\n",
      "course_name: Information Systems Solutions and Design\n",
      "\n",
      "course name modified: Information Systems Solutions & Design\n",
      "course_name\n",
      "course_code\n",
      "\n",
      "Information Systems Solutions & Design\n",
      "ISYS2047\n",
      "key(item): course_name\n",
      "value: Information Systems Solutions & Design\n",
      "key(item): course_code\n",
      "value: ISYS2047\n",
      "exists!\n",
      "c_name: Information Systems Solutions & Design\n"
     ]
    }
   ],
   "source": [
    "# Create a dict\n",
    "course_details = {}\n",
    "course_details['course_name'] = 'Information Systems Solutions and Design'\n",
    "course_details['course_code'] = 'ISYS2047'\n",
    "print(course_details)\n",
    "\n",
    "# Acccess an item\n",
    "course_name = course_details[\"course_name\"]\n",
    "print('course_name:',course_name)\n",
    "print()\n",
    "\n",
    "# Edit an item\n",
    "course_details[\"course_name\"] = \"Information Systems Solutions & Design\"\n",
    "print('course name modified:',course_details['course_name'])\n",
    "\n",
    "# Print all the keys\n",
    "for x in course_details:\n",
    "  print(x)\n",
    "print()\n",
    "\n",
    "# Print all the values\n",
    "for x in course_details:\n",
    "  print(course_details[x])\n",
    "\n",
    "# Print all the number of items & values\n",
    "for k,v in course_details.items():\n",
    "    print('key(item):',k)\n",
    "    print('value:',v)\n",
    "    \n",
    "# Check if key course_code exists\n",
    "if 'course_code' in course_details.keys():\n",
    "    print('exists!')\n",
    "    \n",
    "# Retrieve the value of course_name from the dictionary and store it in a variable named c_name\n",
    "c_name = course_details['course_name']\n",
    "print('c_name:',c_name)\n"
   ]
  },
  {
   "cell_type": "markdown",
   "metadata": {},
   "source": [
    "- Step 5. Manipulate a list of dictionaries"
   ]
  },
  {
   "cell_type": "code",
   "execution_count": 23,
   "metadata": {},
   "outputs": [
    {
     "name": "stdout",
     "output_type": "stream",
     "text": [
      "fruit\n",
      "apple\n",
      "\n",
      "vegetable\n",
      "tomato\n",
      "\n",
      "grain\n",
      "peas\n",
      "\n"
     ]
    }
   ],
   "source": [
    "# list of dictionaries\n",
    "\n",
    "# create an empty list\n",
    "list_food = [] \n",
    "\n",
    "# Create a dictionary and append it to the list\n",
    "food_details = {}\n",
    "food_details['group'] = 'fruit'\n",
    "food_details['name'] = 'apple'\n",
    "list_food.append(food_details) # Don't forget to append to the list\n",
    "\n",
    "# Create another dictionary and append to list\n",
    "food_details = {} # can re-use the same variable name i.e. food_details\n",
    "food_details['group'] = 'vegetable'\n",
    "food_details['name'] = 'tomato'\n",
    "list_food.append(food_details) # Don't forget to append to the list\n",
    "\n",
    "# Another one\n",
    "food_details = {} # can re-use the same variable name i.e. food_details\n",
    "food_details['group'] = 'grain'\n",
    "food_details['name'] = 'peas'\n",
    "list_food.append(food_details) # Don't forget to append to the list\n",
    "\n",
    "# Using a for loop to list the dictionaries in the list\n",
    "for food in list_food:\n",
    "    # food is a dict from the list i.e. food_details\n",
    "    # you can now access the values of individual key:value pairs of the dict\n",
    "    print(food['group'])\n",
    "    print(food['name'])\n",
    "    print() # print a blank line after printing each dictionary\n",
    "    "
   ]
  },
  {
   "cell_type": "code",
   "execution_count": 25,
   "metadata": {},
   "outputs": [
    {
     "name": "stdout",
     "output_type": "stream",
     "text": [
      "{'group': 'fruit', 'name': 'apple'}\n",
      "{'group': 'vegetable', 'name': 'tomato'}\n",
      "{'group': 'grain', 'name': 'peas'}\n",
      "{'group': 'meat', 'name': 'chicken'}\n"
     ]
    }
   ],
   "source": [
    "food_details = {}\n",
    "food_details['group'] = 'meat'\n",
    "food_details['name'] = 'chicken'\n",
    "list_food.append(food_details)\n",
    "\n",
    "for x in list_food:\n",
    "    print(x)"
   ]
  }
 ],
 "metadata": {
  "kernelspec": {
   "display_name": "Python 3 (ipykernel)",
   "language": "python",
   "name": "python3"
  },
  "language_info": {
   "codemirror_mode": {
    "name": "ipython",
    "version": 3
   },
   "file_extension": ".py",
   "mimetype": "text/x-python",
   "name": "python",
   "nbconvert_exporter": "python",
   "pygments_lexer": "ipython3",
   "version": "3.9.7"
  }
 },
 "nbformat": 4,
 "nbformat_minor": 4
}
