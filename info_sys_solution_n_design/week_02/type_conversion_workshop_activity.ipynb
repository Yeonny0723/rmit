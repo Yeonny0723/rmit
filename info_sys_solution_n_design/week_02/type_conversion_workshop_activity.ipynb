{
 "cells": [
  {
   "cell_type": "markdown",
   "metadata": {},
   "source": [
    "<br>\n",
    "\n",
    "### 5. Type Conversion"
   ]
  },
  {
   "cell_type": "markdown",
   "metadata": {},
   "source": [
    "- Step  2 - Type conversion issue (fixed)"
   ]
  },
  {
   "cell_type": "code",
   "execution_count": 4,
   "metadata": {},
   "outputs": [
    {
     "name": "stdout",
     "output_type": "stream",
     "text": [
      "The value of val_a is  10\n",
      "25.0\n",
      "116.625\n"
     ]
    }
   ],
   "source": [
    "val_a = 10\n",
    "print(\"The value of val_a is \", val_a) # print a concatenated string\n",
    "\n",
    "val_b = \"50\" \n",
    "print(int(val_b)/2) # print the value of the variable divided by 2\n",
    "\n",
    "val_c = \"233.25\"\n",
    "print(float(val_c)/2) # print the value of the variable divided by 2"
   ]
  }
 ],
 "metadata": {
  "kernelspec": {
   "display_name": "Python 3 (ipykernel)",
   "language": "python",
   "name": "python3"
  },
  "language_info": {
   "codemirror_mode": {
    "name": "ipython",
    "version": 3
   },
   "file_extension": ".py",
   "mimetype": "text/x-python",
   "name": "python",
   "nbconvert_exporter": "python",
   "pygments_lexer": "ipython3",
   "version": "3.9.7"
  }
 },
 "nbformat": 4,
 "nbformat_minor": 4
}
